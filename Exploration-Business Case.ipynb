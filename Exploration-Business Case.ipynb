{
 "cells": [
  {
   "cell_type": "markdown",
   "metadata": {},
   "source": [
    "# 1. **Fusion des tables en une seule**\n",
    "\n",
    "## **Préparation des données**"
   ]
  },
  {
   "cell_type": "markdown",
   "metadata": {
    "id": "lvD2J6qfcpGF"
   },
   "source": [
    "## Données 2024 (1er semestre)"
   ]
  },
  {
   "cell_type": "code",
   "execution_count": 1,
   "metadata": {
    "colab": {
     "base_uri": "https://localhost:8080/"
    },
    "executionInfo": {
     "elapsed": 17341,
     "status": "ok",
     "timestamp": 1739213853208,
     "user": {
      "displayName": "Aurélie GABU",
      "userId": "10997725835620303151"
     },
     "user_tz": -60
    },
    "id": "tUX6LLqCYmhR",
    "outputId": "497f0d36-d54a-4f0d-8fab-ee20a4794c62"
   },
   "outputs": [
    {
     "name": "stdout",
     "output_type": "stream",
     "text": [
      "<class 'pandas.core.frame.DataFrame'>\n",
      "RangeIndex: 1566643 entries, 0 to 1566642\n",
      "Data columns (total 43 columns):\n",
      " #   Column                      Non-Null Count    Dtype  \n",
      "---  ------                      --------------    -----  \n",
      " 0   Identifiant de document     0 non-null        float64\n",
      " 1   Reference document          0 non-null        float64\n",
      " 2   1 Articles CGI              0 non-null        float64\n",
      " 3   2 Articles CGI              0 non-null        float64\n",
      " 4   3 Articles CGI              0 non-null        float64\n",
      " 5   4 Articles CGI              0 non-null        float64\n",
      " 6   5 Articles CGI              0 non-null        float64\n",
      " 7   No disposition              1566643 non-null  int64  \n",
      " 8   Date mutation               1566643 non-null  object \n",
      " 9   Nature mutation             1566643 non-null  object \n",
      " 10  Valeur fonciere             1549589 non-null  object \n",
      " 11  No voie                     946773 non-null   float64\n",
      " 12  B/T/Q                       67087 non-null    object \n",
      " 13  Type de voie                912892 non-null   object \n",
      " 14  Code voie                   1558442 non-null  object \n",
      " 15  Voie                        1558411 non-null  object \n",
      " 16  Code postal                 1558158 non-null  float64\n",
      " 17  Commune                     1566643 non-null  object \n",
      " 18  Code departement            1566643 non-null  object \n",
      " 19  Code commune                1566643 non-null  int64  \n",
      " 20  Prefixe de section          75237 non-null    float64\n",
      " 21  Section                     1566597 non-null  object \n",
      " 22  No plan                     1566643 non-null  int64  \n",
      " 23  No Volume                   3625 non-null     object \n",
      " 24  1er lot                     464225 non-null   object \n",
      " 25  Surface Carrez du 1er lot   135310 non-null   object \n",
      " 26  2eme lot                    147516 non-null   object \n",
      " 27  Surface Carrez du 2eme lot  45120 non-null    object \n",
      " 28  3eme lot                    25067 non-null    object \n",
      " 29  Surface Carrez du 3eme lot  4970 non-null     object \n",
      " 30  4eme lot                    7720 non-null     object \n",
      " 31  Surface Carrez du 4eme lot  1116 non-null     object \n",
      " 32  5eme lot                    3017 non-null     float64\n",
      " 33  Surface Carrez du 5eme lot  320 non-null      object \n",
      " 34  Nombre de lots              1566643 non-null  int64  \n",
      " 35  Code type local             879876 non-null   float64\n",
      " 36  Type local                  879876 non-null   object \n",
      " 37  Identifiant local           0 non-null        float64\n",
      " 38  Surface reelle bati         878849 non-null   float64\n",
      " 39  Nombre pieces principales   878849 non-null   float64\n",
      " 40  Nature culture              1095453 non-null  object \n",
      " 41  Nature culture speciale     73429 non-null    object \n",
      " 42  Surface terrain             1095453 non-null  float64\n",
      "dtypes: float64(16), int64(4), object(23)\n",
      "memory usage: 514.0+ MB\n"
     ]
    }
   ],
   "source": [
    "import pandas as pd\n",
    "\n",
    "df_2024 = pd.read_csv('https://www.data.gouv.fr/fr/datasets/r/1dc47de2-b30a-4497-b9ef-448d054b5a4f',\n",
    "                 sep='|',                # Séparateur |\n",
    "                 encoding='latin-1',     # Encodage pour les caractères français\n",
    "                 compression='zip',      # Spécifie que c'est un fichier zip\n",
    "                 low_memory=False)       # Pour éviter les warnings de memory\n",
    "\n",
    "df_2024.info()"
   ]
  },
  {
   "cell_type": "code",
   "execution_count": 2,
   "metadata": {},
   "outputs": [
    {
     "data": {
      "text/plain": [
       "Identifiant de document       1566643\n",
       "Reference document            1566643\n",
       "1 Articles CGI                1566643\n",
       "2 Articles CGI                1566643\n",
       "3 Articles CGI                1566643\n",
       "4 Articles CGI                1566643\n",
       "5 Articles CGI                1566643\n",
       "No disposition                      0\n",
       "Date mutation                       0\n",
       "Nature mutation                     0\n",
       "Valeur fonciere                 17054\n",
       "No voie                        619870\n",
       "B/T/Q                         1499556\n",
       "Type de voie                   653751\n",
       "Code voie                        8201\n",
       "Voie                             8232\n",
       "Code postal                      8485\n",
       "Commune                             0\n",
       "Code departement                    0\n",
       "Code commune                        0\n",
       "Prefixe de section            1491406\n",
       "Section                            46\n",
       "No plan                             0\n",
       "No Volume                     1563018\n",
       "1er lot                       1102418\n",
       "Surface Carrez du 1er lot     1431333\n",
       "2eme lot                      1419127\n",
       "Surface Carrez du 2eme lot    1521523\n",
       "3eme lot                      1541576\n",
       "Surface Carrez du 3eme lot    1561673\n",
       "4eme lot                      1558923\n",
       "Surface Carrez du 4eme lot    1565527\n",
       "5eme lot                      1563626\n",
       "Surface Carrez du 5eme lot    1566323\n",
       "Nombre de lots                      0\n",
       "Code type local                686767\n",
       "Type local                     686767\n",
       "Identifiant local             1566643\n",
       "Surface reelle bati            687794\n",
       "Nombre pieces principales      687794\n",
       "Nature culture                 471190\n",
       "Nature culture speciale       1493214\n",
       "Surface terrain                471190\n",
       "dtype: int64"
      ]
     },
     "execution_count": 2,
     "metadata": {},
     "output_type": "execute_result"
    }
   ],
   "source": [
    "df_2024.isnull().sum()"
   ]
  },
  {
   "cell_type": "code",
   "execution_count": null,
   "metadata": {},
   "outputs": [],
   "source": [
    "# modifier le nom des colonnes en rajoutznt un \"underscore\"\n",
    "df_2024.columns = df_2024.columns.str.replace(' ', '_')"
   ]
  },
  {
   "cell_type": "code",
   "execution_count": 4,
   "metadata": {},
   "outputs": [
    {
     "name": "stdout",
     "output_type": "stream",
     "text": [
      "<class 'pandas.core.frame.DataFrame'>\n",
      "Index: 18569 entries, 0 to 18568\n",
      "Data columns (total 43 columns):\n",
      " #   Column                      Non-Null Count  Dtype  \n",
      "---  ------                      --------------  -----  \n",
      " 0   Identifiant_de_document     0 non-null      float64\n",
      " 1   Reference_document          0 non-null      float64\n",
      " 2   1_Articles_CGI              0 non-null      float64\n",
      " 3   2_Articles_CGI              0 non-null      float64\n",
      " 4   3_Articles_CGI              0 non-null      float64\n",
      " 5   4_Articles_CGI              0 non-null      float64\n",
      " 6   5_Articles_CGI              0 non-null      float64\n",
      " 7   No_disposition              18569 non-null  int64  \n",
      " 8   Date_mutation               18569 non-null  object \n",
      " 9   Nature_mutation             18569 non-null  object \n",
      " 10  Valeur_fonciere             18372 non-null  object \n",
      " 11  No_voie                     8259 non-null   float64\n",
      " 12  B/T/Q                       487 non-null    object \n",
      " 13  Type_de_voie                7833 non-null   object \n",
      " 14  Code_voie                   18494 non-null  object \n",
      " 15  Voie                        18494 non-null  object \n",
      " 16  Code_postal                 18494 non-null  float64\n",
      " 17  Commune                     18569 non-null  object \n",
      " 18  Code_departement            18569 non-null  object \n",
      " 19  Code_commune                18569 non-null  int64  \n",
      " 20  Prefixe_de_section          927 non-null    float64\n",
      " 21  Section                     18569 non-null  object \n",
      " 22  No_plan                     18569 non-null  int64  \n",
      " 23  No_Volume                   56 non-null     object \n",
      " 24  1er_lot                     4217 non-null   object \n",
      " 25  Surface_Carrez_du_1er_lot   1042 non-null   object \n",
      " 26  2eme_lot                    1294 non-null   object \n",
      " 27  Surface_Carrez_du_2eme_lot  483 non-null    object \n",
      " 28  3eme_lot                    314 non-null    object \n",
      " 29  Surface_Carrez_du_3eme_lot  71 non-null     object \n",
      " 30  4eme_lot                    95 non-null     object \n",
      " 31  Surface_Carrez_du_4eme_lot  18 non-null     object \n",
      " 32  5eme_lot                    23 non-null     float64\n",
      " 33  Surface_Carrez_du_5eme_lot  0 non-null      object \n",
      " 34  Nombre_de_lots              18569 non-null  int64  \n",
      " 35  Code_type_local             8055 non-null   float64\n",
      " 36  Type_local                  8055 non-null   object \n",
      " 37  Identifiant_local           0 non-null      float64\n",
      " 38  Surface_reelle_bati         8004 non-null   float64\n",
      " 39  Nombre_pieces_principales   8004 non-null   float64\n",
      " 40  Nature_culture              14200 non-null  object \n",
      " 41  Nature_culture_speciale     426 non-null    object \n",
      " 42  Surface_terrain             14200 non-null  float64\n",
      "dtypes: float64(16), int64(4), object(23)\n",
      "memory usage: 6.2+ MB\n"
     ]
    }
   ],
   "source": [
    "# filtrer sur le département de l'Ain\n",
    "df_2024 = df_2024[df_2024['Code_departement'] == '01']\n",
    "df_2024.info()"
   ]
  },
  {
   "cell_type": "code",
   "execution_count": null,
   "metadata": {},
   "outputs": [],
   "source": [
    "# df_2024 = df_2024.drop(['Reference_document', '1_Articles_CGI', '2_Articles_CGI', '3_Articles_CGI', '4_Articles_CGI', '5_Articles_CGI', 'No_disposition','B/T/Q', 'Nature_culture_speciale', \n",
    "#                        'No_Volume', '1er_lot', '2eme_lot', '3eme_lot', '4eme_lot', '5eme_lot' , 'Prefixe_de_section', 'Identifiant_local'], axis=1)"
   ]
  },
  {
   "cell_type": "markdown",
   "metadata": {
    "id": "7TG8F3ITcv_8"
   },
   "source": [
    "## Données 2023 (Année complète)"
   ]
  },
  {
   "cell_type": "code",
   "execution_count": 6,
   "metadata": {
    "colab": {
     "base_uri": "https://localhost:8080/"
    },
    "executionInfo": {
     "elapsed": 35091,
     "status": "ok",
     "timestamp": 1739213901076,
     "user": {
      "displayName": "Aurélie GABU",
      "userId": "10997725835620303151"
     },
     "user_tz": -60
    },
    "id": "L5y_DUt1c0NS",
    "outputId": "8a7121cf-41eb-4959-e1ab-278617e31bab"
   },
   "outputs": [
    {
     "name": "stdout",
     "output_type": "stream",
     "text": [
      "<class 'pandas.core.frame.DataFrame'>\n",
      "RangeIndex: 3799407 entries, 0 to 3799406\n",
      "Data columns (total 43 columns):\n",
      " #   Column                      Dtype  \n",
      "---  ------                      -----  \n",
      " 0   Identifiant de document     float64\n",
      " 1   Reference document          float64\n",
      " 2   1 Articles CGI              float64\n",
      " 3   2 Articles CGI              float64\n",
      " 4   3 Articles CGI              float64\n",
      " 5   4 Articles CGI              float64\n",
      " 6   5 Articles CGI              float64\n",
      " 7   No disposition              int64  \n",
      " 8   Date mutation               object \n",
      " 9   Nature mutation             object \n",
      " 10  Valeur fonciere             object \n",
      " 11  No voie                     float64\n",
      " 12  B/T/Q                       object \n",
      " 13  Type de voie                object \n",
      " 14  Code voie                   object \n",
      " 15  Voie                        object \n",
      " 16  Code postal                 float64\n",
      " 17  Commune                     object \n",
      " 18  Code departement            object \n",
      " 19  Code commune                int64  \n",
      " 20  Prefixe de section          float64\n",
      " 21  Section                     object \n",
      " 22  No plan                     int64  \n",
      " 23  No Volume                   object \n",
      " 24  1er lot                     object \n",
      " 25  Surface Carrez du 1er lot   object \n",
      " 26  2eme lot                    object \n",
      " 27  Surface Carrez du 2eme lot  object \n",
      " 28  3eme lot                    object \n",
      " 29  Surface Carrez du 3eme lot  object \n",
      " 30  4eme lot                    float64\n",
      " 31  Surface Carrez du 4eme lot  object \n",
      " 32  5eme lot                    object \n",
      " 33  Surface Carrez du 5eme lot  object \n",
      " 34  Nombre de lots              int64  \n",
      " 35  Code type local             float64\n",
      " 36  Type local                  object \n",
      " 37  Identifiant local           float64\n",
      " 38  Surface reelle bati         float64\n",
      " 39  Nombre pieces principales   float64\n",
      " 40  Nature culture              object \n",
      " 41  Nature culture speciale     object \n",
      " 42  Surface terrain             float64\n",
      "dtypes: float64(16), int64(4), object(23)\n",
      "memory usage: 1.2+ GB\n"
     ]
    }
   ],
   "source": [
    "df_2023 = pd.read_csv('https://www.data.gouv.fr/fr/datasets/r/dd516f7a-91bb-4cad-a63c-4b55cd457f4c',\n",
    "                 sep='|',                # Séparateur |\n",
    "                 encoding='latin-1',     # Encodage pour les caractères français\n",
    "                 compression='zip',      # Spécifie que c'est un fichier zip\n",
    "                 low_memory=False)       # Pour éviter les warnings de memory\n",
    "\n",
    "df_2023.info()"
   ]
  },
  {
   "cell_type": "code",
   "execution_count": 7,
   "metadata": {},
   "outputs": [
    {
     "name": "stdout",
     "output_type": "stream",
     "text": [
      "<class 'pandas.core.frame.DataFrame'>\n",
      "Index: 44247 entries, 0 to 44246\n",
      "Data columns (total 43 columns):\n",
      " #   Column                      Non-Null Count  Dtype  \n",
      "---  ------                      --------------  -----  \n",
      " 0   Identifiant_de_document     0 non-null      float64\n",
      " 1   Reference_document          0 non-null      float64\n",
      " 2   1_Articles_CGI              0 non-null      float64\n",
      " 3   2_Articles_CGI              0 non-null      float64\n",
      " 4   3_Articles_CGI              0 non-null      float64\n",
      " 5   4_Articles_CGI              0 non-null      float64\n",
      " 6   5_Articles_CGI              0 non-null      float64\n",
      " 7   No_disposition              44247 non-null  int64  \n",
      " 8   Date_mutation               44247 non-null  object \n",
      " 9   Nature_mutation             44247 non-null  object \n",
      " 10  Valeur_fonciere             44008 non-null  object \n",
      " 11  No_voie                     20701 non-null  float64\n",
      " 12  B/T/Q                       1171 non-null   object \n",
      " 13  Type_de_voie                20086 non-null  object \n",
      " 14  Code_voie                   43951 non-null  object \n",
      " 15  Voie                        43951 non-null  object \n",
      " 16  Code_postal                 43951 non-null  float64\n",
      " 17  Commune                     44247 non-null  object \n",
      " 18  Code_departement            44247 non-null  object \n",
      " 19  Code_commune                44247 non-null  int64  \n",
      " 20  Prefixe_de_section          1738 non-null   float64\n",
      " 21  Section                     44247 non-null  object \n",
      " 22  No_plan                     44247 non-null  int64  \n",
      " 23  No_Volume                   91 non-null     object \n",
      " 24  1er_lot                     11204 non-null  object \n",
      " 25  Surface_Carrez_du_1er_lot   2662 non-null   object \n",
      " 26  2eme_lot                    3165 non-null   object \n",
      " 27  Surface_Carrez_du_2eme_lot  923 non-null    object \n",
      " 28  3eme_lot                    791 non-null    object \n",
      " 29  Surface_Carrez_du_3eme_lot  134 non-null    object \n",
      " 30  4eme_lot                    267 non-null    float64\n",
      " 31  Surface_Carrez_du_4eme_lot  50 non-null     object \n",
      " 32  5eme_lot                    69 non-null     object \n",
      " 33  Surface_Carrez_du_5eme_lot  9 non-null      object \n",
      " 34  Nombre_de_lots              44247 non-null  int64  \n",
      " 35  Code_type_local             20632 non-null  float64\n",
      " 36  Type_local                  20632 non-null  object \n",
      " 37  Identifiant_local           0 non-null      float64\n",
      " 38  Surface_reelle_bati         20572 non-null  float64\n",
      " 39  Nombre_pieces_principales   20572 non-null  float64\n",
      " 40  Nature_culture              32687 non-null  object \n",
      " 41  Nature_culture_speciale     836 non-null    object \n",
      " 42  Surface_terrain             32687 non-null  float64\n",
      "dtypes: float64(16), int64(4), object(23)\n",
      "memory usage: 14.9+ MB\n"
     ]
    }
   ],
   "source": [
    "# modification des noms de colonne\n",
    "# filtre sur le département de l'Ain\n",
    "df_2023.columns = df_2023.columns.str.replace(' ', '_')\n",
    "df_2023 = df_2023[df_2023['Code_departement'] == '01']\n",
    "# df_2023 = df_2023.drop(['Reference_document', '1_Articles_CGI', '2_Articles_CGI', '3_Articles_CGI', '4_Articles_CGI', '5_Articles_CGI', 'No_disposition','B/T/Q', 'Nature_culture_speciale', \n",
    "#                        'No_Volume', '1er_lot', '2eme_lot', '3eme_lot', '4eme_lot', '5eme_lot' , 'Prefixe_de_section', 'Identifiant_local'], axis=1)\n",
    "df_2023.info()"
   ]
  },
  {
   "cell_type": "markdown",
   "metadata": {
    "id": "5vRqysdTc2kU"
   },
   "source": [
    "## Données 2022 (Année complète)"
   ]
  },
  {
   "cell_type": "code",
   "execution_count": 8,
   "metadata": {
    "colab": {
     "base_uri": "https://localhost:8080/"
    },
    "executionInfo": {
     "elapsed": 40594,
     "status": "ok",
     "timestamp": 1739213967879,
     "user": {
      "displayName": "Aurélie GABU",
      "userId": "10997725835620303151"
     },
     "user_tz": -60
    },
    "id": "5y5Gk5aCc8WJ",
    "outputId": "59914ce9-dbf4-4047-8b45-a3b4dc48a5e6"
   },
   "outputs": [
    {
     "name": "stdout",
     "output_type": "stream",
     "text": [
      "<class 'pandas.core.frame.DataFrame'>\n",
      "RangeIndex: 4667090 entries, 0 to 4667089\n",
      "Data columns (total 43 columns):\n",
      " #   Column                      Dtype  \n",
      "---  ------                      -----  \n",
      " 0   Identifiant de document     float64\n",
      " 1   Reference document          float64\n",
      " 2   1 Articles CGI              float64\n",
      " 3   2 Articles CGI              float64\n",
      " 4   3 Articles CGI              float64\n",
      " 5   4 Articles CGI              float64\n",
      " 6   5 Articles CGI              float64\n",
      " 7   No disposition              int64  \n",
      " 8   Date mutation               object \n",
      " 9   Nature mutation             object \n",
      " 10  Valeur fonciere             object \n",
      " 11  No voie                     float64\n",
      " 12  B/T/Q                       object \n",
      " 13  Type de voie                object \n",
      " 14  Code voie                   object \n",
      " 15  Voie                        object \n",
      " 16  Code postal                 float64\n",
      " 17  Commune                     object \n",
      " 18  Code departement            object \n",
      " 19  Code commune                int64  \n",
      " 20  Prefixe de section          float64\n",
      " 21  Section                     object \n",
      " 22  No plan                     int64  \n",
      " 23  No Volume                   object \n",
      " 24  1er lot                     object \n",
      " 25  Surface Carrez du 1er lot   object \n",
      " 26  2eme lot                    object \n",
      " 27  Surface Carrez du 2eme lot  object \n",
      " 28  3eme lot                    object \n",
      " 29  Surface Carrez du 3eme lot  object \n",
      " 30  4eme lot                    float64\n",
      " 31  Surface Carrez du 4eme lot  object \n",
      " 32  5eme lot                    float64\n",
      " 33  Surface Carrez du 5eme lot  object \n",
      " 34  Nombre de lots              int64  \n",
      " 35  Code type local             float64\n",
      " 36  Type local                  object \n",
      " 37  Identifiant local           float64\n",
      " 38  Surface reelle bati         float64\n",
      " 39  Nombre pieces principales   float64\n",
      " 40  Nature culture              object \n",
      " 41  Nature culture speciale     object \n",
      " 42  Surface terrain             float64\n",
      "dtypes: float64(17), int64(4), object(22)\n",
      "memory usage: 1.5+ GB\n"
     ]
    }
   ],
   "source": [
    "df_2022 = pd.read_csv('https://www.data.gouv.fr/fr/datasets/r/91fd9f09-fe6f-4ab2-9803-84a626e1faa6',\n",
    "                 sep='|',                # Séparateur |\n",
    "                 encoding='latin-1',     # Encodage pour les caractères français\n",
    "                 compression='zip',      # Spécifie que c'est un fichier zip\n",
    "                 low_memory=False)       # Pour éviter les warnings de memory\n",
    "\n",
    "df_2022.info()"
   ]
  },
  {
   "cell_type": "code",
   "execution_count": 9,
   "metadata": {},
   "outputs": [
    {
     "name": "stdout",
     "output_type": "stream",
     "text": [
      "<class 'pandas.core.frame.DataFrame'>\n",
      "Index: 51150 entries, 0 to 51149\n",
      "Data columns (total 43 columns):\n",
      " #   Column                      Non-Null Count  Dtype  \n",
      "---  ------                      --------------  -----  \n",
      " 0   Identifiant_de_document     0 non-null      float64\n",
      " 1   Reference_document          0 non-null      float64\n",
      " 2   1_Articles_CGI              0 non-null      float64\n",
      " 3   2_Articles_CGI              0 non-null      float64\n",
      " 4   3_Articles_CGI              0 non-null      float64\n",
      " 5   4_Articles_CGI              0 non-null      float64\n",
      " 6   5_Articles_CGI              0 non-null      float64\n",
      " 7   No_disposition              51150 non-null  int64  \n",
      " 8   Date_mutation               51150 non-null  object \n",
      " 9   Nature_mutation             51150 non-null  object \n",
      " 10  Valeur_fonciere             50963 non-null  object \n",
      " 11  No_voie                     25595 non-null  float64\n",
      " 12  B/T/Q                       1607 non-null   object \n",
      " 13  Type_de_voie                24427 non-null  object \n",
      " 14  Code_voie                   50892 non-null  object \n",
      " 15  Voie                        50892 non-null  object \n",
      " 16  Code_postal                 50892 non-null  float64\n",
      " 17  Commune                     51150 non-null  object \n",
      " 18  Code_departement            51150 non-null  object \n",
      " 19  Code_commune                51150 non-null  int64  \n",
      " 20  Prefixe_de_section          1769 non-null   float64\n",
      " 21  Section                     51150 non-null  object \n",
      " 22  No_plan                     51150 non-null  int64  \n",
      " 23  No_Volume                   254 non-null    object \n",
      " 24  1er_lot                     13214 non-null  object \n",
      " 25  Surface_Carrez_du_1er_lot   3543 non-null   object \n",
      " 26  2eme_lot                    3931 non-null   object \n",
      " 27  Surface_Carrez_du_2eme_lot  1427 non-null   object \n",
      " 28  3eme_lot                    936 non-null    object \n",
      " 29  Surface_Carrez_du_3eme_lot  205 non-null    object \n",
      " 30  4eme_lot                    299 non-null    float64\n",
      " 31  Surface_Carrez_du_4eme_lot  48 non-null     object \n",
      " 32  5eme_lot                    92 non-null     float64\n",
      " 33  Surface_Carrez_du_5eme_lot  15 non-null     object \n",
      " 34  Nombre_de_lots              51150 non-null  int64  \n",
      " 35  Code_type_local             26089 non-null  float64\n",
      " 36  Type_local                  26089 non-null  object \n",
      " 37  Identifiant_local           0 non-null      float64\n",
      " 38  Surface_reelle_bati         26044 non-null  float64\n",
      " 39  Nombre_pieces_principales   26044 non-null  float64\n",
      " 40  Nature_culture              37364 non-null  object \n",
      " 41  Nature_culture_speciale     875 non-null    object \n",
      " 42  Surface_terrain             37364 non-null  float64\n",
      "dtypes: float64(17), int64(4), object(22)\n",
      "memory usage: 17.2+ MB\n"
     ]
    }
   ],
   "source": [
    "# modification des noms de colonne\n",
    "# filtre sur le département de l'Ain\n",
    "\n",
    "df_2022.columns = df_2022.columns.str.replace(' ', '_')\n",
    "df_2022 = df_2022[df_2022['Code_departement'] == '01']\n",
    "# df_2022 = df_2022.drop(['Reference_document', '1_Articles_CGI', '2_Articles_CGI', '3_Articles_CGI', '4_Articles_CGI', '5_Articles_CGI', 'No_disposition','B/T/Q', 'Nature_culture_speciale', \n",
    "#                        'No_Volume', '1er_lot', '2eme_lot', '3eme_lot', '4eme_lot', '5eme_lot' , 'Prefixe_de_section', 'Identifiant_local'], axis=1)\n",
    "df_2022.info()"
   ]
  },
  {
   "cell_type": "markdown",
   "metadata": {},
   "source": [
    "## Ajout de la colonne \"Année\" dans chaque table, puis fusion"
   ]
  },
  {
   "cell_type": "code",
   "execution_count": 26,
   "metadata": {},
   "outputs": [
    {
     "name": "stdout",
     "output_type": "stream",
     "text": [
      "<class 'pandas.core.frame.DataFrame'>\n",
      "RangeIndex: 113966 entries, 0 to 113965\n",
      "Data columns (total 44 columns):\n",
      " #   Column                      Non-Null Count   Dtype  \n",
      "---  ------                      --------------   -----  \n",
      " 0   Identifiant_de_document     0 non-null       float64\n",
      " 1   Reference_document          0 non-null       float64\n",
      " 2   1_Articles_CGI              0 non-null       float64\n",
      " 3   2_Articles_CGI              0 non-null       float64\n",
      " 4   3_Articles_CGI              0 non-null       float64\n",
      " 5   4_Articles_CGI              0 non-null       float64\n",
      " 6   5_Articles_CGI              0 non-null       float64\n",
      " 7   No_disposition              113966 non-null  int64  \n",
      " 8   Date_mutation               113966 non-null  object \n",
      " 9   Nature_mutation             113966 non-null  object \n",
      " 10  Valeur_fonciere             113343 non-null  object \n",
      " 11  No_voie                     54555 non-null   float64\n",
      " 12  B/T/Q                       3265 non-null    object \n",
      " 13  Type_de_voie                52346 non-null   object \n",
      " 14  Code_voie                   113337 non-null  object \n",
      " 15  Voie                        113337 non-null  object \n",
      " 16  Code_postal                 113337 non-null  float64\n",
      " 17  Commune                     113966 non-null  object \n",
      " 18  Code_departement            113966 non-null  object \n",
      " 19  Code_commune                113966 non-null  int64  \n",
      " 20  Prefixe_de_section          4434 non-null    float64\n",
      " 21  Section                     113966 non-null  object \n",
      " 22  No_plan                     113966 non-null  int64  \n",
      " 23  No_Volume                   401 non-null     object \n",
      " 24  1er_lot                     28635 non-null   object \n",
      " 25  Surface_Carrez_du_1er_lot   7247 non-null    object \n",
      " 26  2eme_lot                    8390 non-null    object \n",
      " 27  Surface_Carrez_du_2eme_lot  2833 non-null    object \n",
      " 28  3eme_lot                    2041 non-null    object \n",
      " 29  Surface_Carrez_du_3eme_lot  410 non-null     object \n",
      " 30  4eme_lot                    661 non-null     object \n",
      " 31  Surface_Carrez_du_4eme_lot  116 non-null     object \n",
      " 32  5eme_lot                    184 non-null     object \n",
      " 33  Surface_Carrez_du_5eme_lot  24 non-null      object \n",
      " 34  Nombre_de_lots              113966 non-null  int64  \n",
      " 35  Code_type_local             54776 non-null   float64\n",
      " 36  Type_local                  54776 non-null   object \n",
      " 37  Identifiant_local           0 non-null       float64\n",
      " 38  Surface_reelle_bati         54620 non-null   float64\n",
      " 39  Nombre_pieces_principales   54620 non-null   float64\n",
      " 40  Nature_culture              84251 non-null   object \n",
      " 41  Nature_culture_speciale     2137 non-null    object \n",
      " 42  Surface_terrain             84251 non-null   float64\n",
      " 43  Annee                       113966 non-null  int64  \n",
      "dtypes: float64(15), int64(5), object(24)\n",
      "memory usage: 38.3+ MB\n"
     ]
    }
   ],
   "source": [
    "# ajout de la colonne \"Annee\" dans chaque table\n",
    "df_2022[\"Annee\"] = 2022\n",
    "df_2023[\"Annee\"] = 2023\n",
    "df_2024[\"Annee\"] = 2024\n",
    "\n",
    "# fusion des tables\n",
    "df_concat = pd.concat([df_2022, df_2023, df_2024], ignore_index=True)\n",
    "df_concat.info()"
   ]
  },
  {
   "cell_type": "markdown",
   "metadata": {},
   "source": [
    "# 2. **Nettoyage des données**"
   ]
  },
  {
   "cell_type": "code",
   "execution_count": 28,
   "metadata": {},
   "outputs": [
    {
     "name": "stdout",
     "output_type": "stream",
     "text": [
      "<class 'pandas.core.frame.DataFrame'>\n",
      "RangeIndex: 113966 entries, 0 to 113965\n",
      "Data columns (total 19 columns):\n",
      " #   Column                      Non-Null Count   Dtype  \n",
      "---  ------                      --------------   -----  \n",
      " 0   Date_mutation               113966 non-null  object \n",
      " 1   Annee                       113966 non-null  int64  \n",
      " 2   Commune                     113966 non-null  object \n",
      " 3   Code_postal                 113337 non-null  float64\n",
      " 4   Code_commune                113966 non-null  int64  \n",
      " 5   Valeur_fonciere             113343 non-null  object \n",
      " 6   Nature_mutation             113966 non-null  object \n",
      " 7   Type_local                  54776 non-null   object \n",
      " 8   Surface_reelle_bati         54620 non-null   float64\n",
      " 9   Nature_culture              84251 non-null   object \n",
      " 10  Nature_culture_speciale     2137 non-null    object \n",
      " 11  Nombre_pieces_principales   54620 non-null   float64\n",
      " 12  Surface_terrain             84251 non-null   float64\n",
      " 13  Nombre_de_lots              113966 non-null  int64  \n",
      " 14  Surface_Carrez_du_1er_lot   7247 non-null    object \n",
      " 15  Surface_Carrez_du_2eme_lot  2833 non-null    object \n",
      " 16  Surface_Carrez_du_3eme_lot  410 non-null     object \n",
      " 17  Surface_Carrez_du_4eme_lot  116 non-null     object \n",
      " 18  Surface_Carrez_du_5eme_lot  24 non-null      object \n",
      "dtypes: float64(4), int64(3), object(12)\n",
      "memory usage: 16.5+ MB\n"
     ]
    }
   ],
   "source": [
    "# supprimer les colonnes non utiles pour l'analyse\n",
    "# réorganiser les olonnes pour une meilleure lecture (données temporelles, géographiques, économiques,\n",
    "# caractéristiques des biens, lots)\n",
    "colonnes_a_supprimer = ['Identifiant_de_document', 'Reference_document', '1_Articles_CGI', '2_Articles_CGI', \n",
    "                        '3_Articles_CGI', '4_Articles_CGI', '5_Articles_CGI', 'No_disposition', 'No_voie', \n",
    "                        'B/T/Q', 'Type_de_voie', 'Code_voie', 'Voie', 'Prefixe_de_section', 'Section', \n",
    "                        'No_plan', 'No_Volume', '1er_lot', 'Code_type_local', 'Identifiant_local']\n",
    "\n",
    "df_concat = df_concat.drop(columns=colonnes_a_supprimer, errors='ignore')  \n",
    "\n",
    "nouvel_ordre_colonnes = ['Date_mutation', 'Annee', 'Commune', 'Code_postal', 'Code_commune',\n",
    "                         'Valeur_fonciere', 'Nature_mutation', 'Type_local', 'Surface_reelle_bati', 'Nature_culture', \n",
    "                         'Nature_culture_speciale', 'Nombre_pieces_principales', 'Surface_terrain', 'Nombre_de_lots', \n",
    "                         'Surface_Carrez_du_1er_lot', 'Surface_Carrez_du_2eme_lot', 'Surface_Carrez_du_3eme_lot', \n",
    "                         'Surface_Carrez_du_4eme_lot', 'Surface_Carrez_du_5eme_lot']\n",
    "\n",
    "df_concat = df_concat[nouvel_ordre_colonnes]\n",
    "\n",
    "df_concat.info()\n"
   ]
  },
  {
   "cell_type": "markdown",
   "metadata": {},
   "source": [
    "### Gestion des doublons"
   ]
  },
  {
   "cell_type": "code",
   "execution_count": null,
   "metadata": {},
   "outputs": [
    {
     "data": {
      "text/plain": [
       "13797"
      ]
     },
     "execution_count": 29,
     "metadata": {},
     "output_type": "execute_result"
    }
   ],
   "source": [
    "# vérification des doublons\n",
    "doublons = df_concat.duplicated().sum()\n",
    "doublons"
   ]
  },
  {
   "cell_type": "code",
   "execution_count": 30,
   "metadata": {},
   "outputs": [
    {
     "data": {
      "text/html": [
       "<div>\n",
       "<style scoped>\n",
       "    .dataframe tbody tr th:only-of-type {\n",
       "        vertical-align: middle;\n",
       "    }\n",
       "\n",
       "    .dataframe tbody tr th {\n",
       "        vertical-align: top;\n",
       "    }\n",
       "\n",
       "    .dataframe thead th {\n",
       "        text-align: right;\n",
       "    }\n",
       "</style>\n",
       "<table border=\"1\" class=\"dataframe\">\n",
       "  <thead>\n",
       "    <tr style=\"text-align: right;\">\n",
       "      <th></th>\n",
       "      <th>Date_mutation</th>\n",
       "      <th>Annee</th>\n",
       "      <th>Commune</th>\n",
       "      <th>Code_postal</th>\n",
       "      <th>Code_commune</th>\n",
       "      <th>Valeur_fonciere</th>\n",
       "      <th>Nature_mutation</th>\n",
       "      <th>Type_local</th>\n",
       "      <th>Surface_reelle_bati</th>\n",
       "      <th>Nature_culture</th>\n",
       "      <th>Nature_culture_speciale</th>\n",
       "      <th>Nombre_pieces_principales</th>\n",
       "      <th>Surface_terrain</th>\n",
       "      <th>Nombre_de_lots</th>\n",
       "      <th>Surface_Carrez_du_1er_lot</th>\n",
       "      <th>Surface_Carrez_du_2eme_lot</th>\n",
       "      <th>Surface_Carrez_du_3eme_lot</th>\n",
       "      <th>Surface_Carrez_du_4eme_lot</th>\n",
       "      <th>Surface_Carrez_du_5eme_lot</th>\n",
       "    </tr>\n",
       "  </thead>\n",
       "  <tbody>\n",
       "    <tr>\n",
       "      <th>17</th>\n",
       "      <td>04/01/2022</td>\n",
       "      <td>2022</td>\n",
       "      <td>BOURG-EN-BRESSE</td>\n",
       "      <td>1000.0</td>\n",
       "      <td>53</td>\n",
       "      <td>134000,00</td>\n",
       "      <td>Vente</td>\n",
       "      <td>DÃ©pendance</td>\n",
       "      <td>0.0</td>\n",
       "      <td>NaN</td>\n",
       "      <td>NaN</td>\n",
       "      <td>0.0</td>\n",
       "      <td>NaN</td>\n",
       "      <td>1</td>\n",
       "      <td>70,02</td>\n",
       "      <td>NaN</td>\n",
       "      <td>NaN</td>\n",
       "      <td>NaN</td>\n",
       "      <td>NaN</td>\n",
       "    </tr>\n",
       "    <tr>\n",
       "      <th>19</th>\n",
       "      <td>04/01/2022</td>\n",
       "      <td>2022</td>\n",
       "      <td>BOURG-EN-BRESSE</td>\n",
       "      <td>1000.0</td>\n",
       "      <td>53</td>\n",
       "      <td>134000,00</td>\n",
       "      <td>Vente</td>\n",
       "      <td>DÃ©pendance</td>\n",
       "      <td>0.0</td>\n",
       "      <td>NaN</td>\n",
       "      <td>NaN</td>\n",
       "      <td>0.0</td>\n",
       "      <td>NaN</td>\n",
       "      <td>1</td>\n",
       "      <td>70,02</td>\n",
       "      <td>NaN</td>\n",
       "      <td>NaN</td>\n",
       "      <td>NaN</td>\n",
       "      <td>NaN</td>\n",
       "    </tr>\n",
       "    <tr>\n",
       "      <th>21</th>\n",
       "      <td>10/01/2022</td>\n",
       "      <td>2022</td>\n",
       "      <td>AMBRONAY</td>\n",
       "      <td>1500.0</td>\n",
       "      <td>7</td>\n",
       "      <td>580000,00</td>\n",
       "      <td>Vente</td>\n",
       "      <td>DÃ©pendance</td>\n",
       "      <td>0.0</td>\n",
       "      <td>S</td>\n",
       "      <td>NaN</td>\n",
       "      <td>0.0</td>\n",
       "      <td>496.0</td>\n",
       "      <td>0</td>\n",
       "      <td>NaN</td>\n",
       "      <td>NaN</td>\n",
       "      <td>NaN</td>\n",
       "      <td>NaN</td>\n",
       "      <td>NaN</td>\n",
       "    </tr>\n",
       "    <tr>\n",
       "      <th>22</th>\n",
       "      <td>10/01/2022</td>\n",
       "      <td>2022</td>\n",
       "      <td>AMBRONAY</td>\n",
       "      <td>1500.0</td>\n",
       "      <td>7</td>\n",
       "      <td>580000,00</td>\n",
       "      <td>Vente</td>\n",
       "      <td>DÃ©pendance</td>\n",
       "      <td>0.0</td>\n",
       "      <td>S</td>\n",
       "      <td>NaN</td>\n",
       "      <td>0.0</td>\n",
       "      <td>496.0</td>\n",
       "      <td>0</td>\n",
       "      <td>NaN</td>\n",
       "      <td>NaN</td>\n",
       "      <td>NaN</td>\n",
       "      <td>NaN</td>\n",
       "      <td>NaN</td>\n",
       "    </tr>\n",
       "    <tr>\n",
       "      <th>24</th>\n",
       "      <td>10/01/2022</td>\n",
       "      <td>2022</td>\n",
       "      <td>AMBRONAY</td>\n",
       "      <td>1500.0</td>\n",
       "      <td>7</td>\n",
       "      <td>580000,00</td>\n",
       "      <td>Vente</td>\n",
       "      <td>DÃ©pendance</td>\n",
       "      <td>0.0</td>\n",
       "      <td>S</td>\n",
       "      <td>NaN</td>\n",
       "      <td>0.0</td>\n",
       "      <td>496.0</td>\n",
       "      <td>0</td>\n",
       "      <td>NaN</td>\n",
       "      <td>NaN</td>\n",
       "      <td>NaN</td>\n",
       "      <td>NaN</td>\n",
       "      <td>NaN</td>\n",
       "    </tr>\n",
       "    <tr>\n",
       "      <th>...</th>\n",
       "      <td>...</td>\n",
       "      <td>...</td>\n",
       "      <td>...</td>\n",
       "      <td>...</td>\n",
       "      <td>...</td>\n",
       "      <td>...</td>\n",
       "      <td>...</td>\n",
       "      <td>...</td>\n",
       "      <td>...</td>\n",
       "      <td>...</td>\n",
       "      <td>...</td>\n",
       "      <td>...</td>\n",
       "      <td>...</td>\n",
       "      <td>...</td>\n",
       "      <td>...</td>\n",
       "      <td>...</td>\n",
       "      <td>...</td>\n",
       "      <td>...</td>\n",
       "      <td>...</td>\n",
       "    </tr>\n",
       "    <tr>\n",
       "      <th>113948</th>\n",
       "      <td>28/03/2024</td>\n",
       "      <td>2024</td>\n",
       "      <td>BENY</td>\n",
       "      <td>1370.0</td>\n",
       "      <td>38</td>\n",
       "      <td>112200,00</td>\n",
       "      <td>Vente</td>\n",
       "      <td>DÃ©pendance</td>\n",
       "      <td>0.0</td>\n",
       "      <td>S</td>\n",
       "      <td>NaN</td>\n",
       "      <td>0.0</td>\n",
       "      <td>800.0</td>\n",
       "      <td>0</td>\n",
       "      <td>NaN</td>\n",
       "      <td>NaN</td>\n",
       "      <td>NaN</td>\n",
       "      <td>NaN</td>\n",
       "      <td>NaN</td>\n",
       "    </tr>\n",
       "    <tr>\n",
       "      <th>113950</th>\n",
       "      <td>21/06/2024</td>\n",
       "      <td>2024</td>\n",
       "      <td>SAINT-ETIENNE-DU-BOIS</td>\n",
       "      <td>1370.0</td>\n",
       "      <td>350</td>\n",
       "      <td>85400,00</td>\n",
       "      <td>Vente</td>\n",
       "      <td>DÃ©pendance</td>\n",
       "      <td>0.0</td>\n",
       "      <td>NaN</td>\n",
       "      <td>NaN</td>\n",
       "      <td>0.0</td>\n",
       "      <td>NaN</td>\n",
       "      <td>1</td>\n",
       "      <td>NaN</td>\n",
       "      <td>NaN</td>\n",
       "      <td>NaN</td>\n",
       "      <td>NaN</td>\n",
       "      <td>NaN</td>\n",
       "    </tr>\n",
       "    <tr>\n",
       "      <th>113951</th>\n",
       "      <td>21/06/2024</td>\n",
       "      <td>2024</td>\n",
       "      <td>SAINT-ETIENNE-DU-BOIS</td>\n",
       "      <td>1370.0</td>\n",
       "      <td>350</td>\n",
       "      <td>85400,00</td>\n",
       "      <td>Vente</td>\n",
       "      <td>DÃ©pendance</td>\n",
       "      <td>0.0</td>\n",
       "      <td>NaN</td>\n",
       "      <td>NaN</td>\n",
       "      <td>0.0</td>\n",
       "      <td>NaN</td>\n",
       "      <td>1</td>\n",
       "      <td>NaN</td>\n",
       "      <td>NaN</td>\n",
       "      <td>NaN</td>\n",
       "      <td>NaN</td>\n",
       "      <td>NaN</td>\n",
       "    </tr>\n",
       "    <tr>\n",
       "      <th>113962</th>\n",
       "      <td>20/06/2024</td>\n",
       "      <td>2024</td>\n",
       "      <td>SAVIGNEUX</td>\n",
       "      <td>1480.0</td>\n",
       "      <td>398</td>\n",
       "      <td>23000,00</td>\n",
       "      <td>Vente</td>\n",
       "      <td>NaN</td>\n",
       "      <td>NaN</td>\n",
       "      <td>T</td>\n",
       "      <td>NaN</td>\n",
       "      <td>NaN</td>\n",
       "      <td>11152.0</td>\n",
       "      <td>0</td>\n",
       "      <td>NaN</td>\n",
       "      <td>NaN</td>\n",
       "      <td>NaN</td>\n",
       "      <td>NaN</td>\n",
       "      <td>NaN</td>\n",
       "    </tr>\n",
       "    <tr>\n",
       "      <th>113963</th>\n",
       "      <td>20/06/2024</td>\n",
       "      <td>2024</td>\n",
       "      <td>SAVIGNEUX</td>\n",
       "      <td>1480.0</td>\n",
       "      <td>398</td>\n",
       "      <td>23000,00</td>\n",
       "      <td>Vente</td>\n",
       "      <td>NaN</td>\n",
       "      <td>NaN</td>\n",
       "      <td>T</td>\n",
       "      <td>NaN</td>\n",
       "      <td>NaN</td>\n",
       "      <td>11152.0</td>\n",
       "      <td>0</td>\n",
       "      <td>NaN</td>\n",
       "      <td>NaN</td>\n",
       "      <td>NaN</td>\n",
       "      <td>NaN</td>\n",
       "      <td>NaN</td>\n",
       "    </tr>\n",
       "  </tbody>\n",
       "</table>\n",
       "<p>21791 rows × 19 columns</p>\n",
       "</div>"
      ],
      "text/plain": [
       "       Date_mutation  Annee                Commune  Code_postal  Code_commune  \\\n",
       "17        04/01/2022   2022        BOURG-EN-BRESSE       1000.0            53   \n",
       "19        04/01/2022   2022        BOURG-EN-BRESSE       1000.0            53   \n",
       "21        10/01/2022   2022               AMBRONAY       1500.0             7   \n",
       "22        10/01/2022   2022               AMBRONAY       1500.0             7   \n",
       "24        10/01/2022   2022               AMBRONAY       1500.0             7   \n",
       "...              ...    ...                    ...          ...           ...   \n",
       "113948    28/03/2024   2024                   BENY       1370.0            38   \n",
       "113950    21/06/2024   2024  SAINT-ETIENNE-DU-BOIS       1370.0           350   \n",
       "113951    21/06/2024   2024  SAINT-ETIENNE-DU-BOIS       1370.0           350   \n",
       "113962    20/06/2024   2024              SAVIGNEUX       1480.0           398   \n",
       "113963    20/06/2024   2024              SAVIGNEUX       1480.0           398   \n",
       "\n",
       "       Valeur_fonciere Nature_mutation   Type_local  Surface_reelle_bati  \\\n",
       "17           134000,00           Vente  DÃ©pendance                  0.0   \n",
       "19           134000,00           Vente  DÃ©pendance                  0.0   \n",
       "21           580000,00           Vente  DÃ©pendance                  0.0   \n",
       "22           580000,00           Vente  DÃ©pendance                  0.0   \n",
       "24           580000,00           Vente  DÃ©pendance                  0.0   \n",
       "...                ...             ...          ...                  ...   \n",
       "113948       112200,00           Vente  DÃ©pendance                  0.0   \n",
       "113950        85400,00           Vente  DÃ©pendance                  0.0   \n",
       "113951        85400,00           Vente  DÃ©pendance                  0.0   \n",
       "113962        23000,00           Vente          NaN                  NaN   \n",
       "113963        23000,00           Vente          NaN                  NaN   \n",
       "\n",
       "       Nature_culture Nature_culture_speciale  Nombre_pieces_principales  \\\n",
       "17                NaN                     NaN                        0.0   \n",
       "19                NaN                     NaN                        0.0   \n",
       "21                  S                     NaN                        0.0   \n",
       "22                  S                     NaN                        0.0   \n",
       "24                  S                     NaN                        0.0   \n",
       "...               ...                     ...                        ...   \n",
       "113948              S                     NaN                        0.0   \n",
       "113950            NaN                     NaN                        0.0   \n",
       "113951            NaN                     NaN                        0.0   \n",
       "113962              T                     NaN                        NaN   \n",
       "113963              T                     NaN                        NaN   \n",
       "\n",
       "        Surface_terrain  Nombre_de_lots Surface_Carrez_du_1er_lot  \\\n",
       "17                  NaN               1                     70,02   \n",
       "19                  NaN               1                     70,02   \n",
       "21                496.0               0                       NaN   \n",
       "22                496.0               0                       NaN   \n",
       "24                496.0               0                       NaN   \n",
       "...                 ...             ...                       ...   \n",
       "113948            800.0               0                       NaN   \n",
       "113950              NaN               1                       NaN   \n",
       "113951              NaN               1                       NaN   \n",
       "113962          11152.0               0                       NaN   \n",
       "113963          11152.0               0                       NaN   \n",
       "\n",
       "       Surface_Carrez_du_2eme_lot Surface_Carrez_du_3eme_lot  \\\n",
       "17                            NaN                        NaN   \n",
       "19                            NaN                        NaN   \n",
       "21                            NaN                        NaN   \n",
       "22                            NaN                        NaN   \n",
       "24                            NaN                        NaN   \n",
       "...                           ...                        ...   \n",
       "113948                        NaN                        NaN   \n",
       "113950                        NaN                        NaN   \n",
       "113951                        NaN                        NaN   \n",
       "113962                        NaN                        NaN   \n",
       "113963                        NaN                        NaN   \n",
       "\n",
       "       Surface_Carrez_du_4eme_lot Surface_Carrez_du_5eme_lot  \n",
       "17                            NaN                        NaN  \n",
       "19                            NaN                        NaN  \n",
       "21                            NaN                        NaN  \n",
       "22                            NaN                        NaN  \n",
       "24                            NaN                        NaN  \n",
       "...                           ...                        ...  \n",
       "113948                        NaN                        NaN  \n",
       "113950                        NaN                        NaN  \n",
       "113951                        NaN                        NaN  \n",
       "113962                        NaN                        NaN  \n",
       "113963                        NaN                        NaN  \n",
       "\n",
       "[21791 rows x 19 columns]"
      ]
     },
     "execution_count": 30,
     "metadata": {},
     "output_type": "execute_result"
    }
   ],
   "source": [
    "# vérifier les doublons afin d'identifier les lignes à conserver ou pas\n",
    "doublons = df_concat[df_concat.duplicated(keep=False)]\n",
    "doublons\n",
    "\n",
    "# constat : il existe de réels doublons identidentiques, on va donc conserver uniquement les 1ères lignes"
   ]
  },
  {
   "cell_type": "code",
   "execution_count": 196,
   "metadata": {},
   "outputs": [
    {
     "data": {
      "text/plain": [
       "0"
      ]
     },
     "execution_count": 196,
     "metadata": {},
     "output_type": "execute_result"
    }
   ],
   "source": [
    "# supprimer les doublons en ne conservant que les premières ligne des doublons\n",
    "df_immo = df_concat.drop_duplicates(keep='first').reset_index()\n",
    "df_immo.duplicated().sum()"
   ]
  },
  {
   "cell_type": "code",
   "execution_count": 197,
   "metadata": {},
   "outputs": [
    {
     "name": "stdout",
     "output_type": "stream",
     "text": [
      "113966\n",
      "100169\n"
     ]
    }
   ],
   "source": [
    "print(len(df_concat))\n",
    "print(len(df_immo))"
   ]
  },
  {
   "cell_type": "markdown",
   "metadata": {},
   "source": [
    "### Gestion des type de données"
   ]
  },
  {
   "cell_type": "code",
   "execution_count": 198,
   "metadata": {},
   "outputs": [],
   "source": [
    "# modification des types de données\n",
    "df_immo['Date_mutation'] = pd.to_datetime(df_immo['Date_mutation'], format=\"%d/%m/%Y\")\n",
    "df_immo['Valeur_fonciere'] = df_immo['Valeur_fonciere'].str.replace(',', '.').astype('float')\n",
    "df_immo['Surface_Carrez_du_1er_lot'] = df_immo['Surface_Carrez_du_1er_lot'].str.replace(',', '.').astype('float')\n",
    "df_immo['Surface_Carrez_du_2eme_lot'] = df_immo['Surface_Carrez_du_2eme_lot'].str.replace(',', '.').astype('float')\n",
    "df_immo['Surface_Carrez_du_3eme_lot'] = df_immo['Surface_Carrez_du_3eme_lot'].str.replace(',', '.').astype('float')\n",
    "df_immo['Surface_Carrez_du_4eme_lot'] = df_immo['Surface_Carrez_du_4eme_lot'].str.replace(',', '.').astype('float')\n",
    "df_immo['Surface_Carrez_du_5eme_lot'] = df_immo['Surface_Carrez_du_5eme_lot'].str.replace(',', '.').astype('float')\n"
   ]
  },
  {
   "cell_type": "markdown",
   "metadata": {},
   "source": [
    "### Gestion des valeurs manquantes"
   ]
  },
  {
   "cell_type": "code",
   "execution_count": 199,
   "metadata": {},
   "outputs": [
    {
     "data": {
      "text/plain": [
       "index                              0\n",
       "Date_mutation                      0\n",
       "Annee                              0\n",
       "Commune                            0\n",
       "Code_postal                      225\n",
       "Code_commune                       0\n",
       "Valeur_fonciere                  582\n",
       "Nature_mutation                    0\n",
       "Type_local                     54627\n",
       "Surface_reelle_bati            54767\n",
       "Nature_culture                 22280\n",
       "Nature_culture_speciale        98121\n",
       "Nombre_pieces_principales      54767\n",
       "Surface_terrain                22280\n",
       "Nombre_de_lots                     0\n",
       "Surface_Carrez_du_1er_lot      93394\n",
       "Surface_Carrez_du_2eme_lot     97639\n",
       "Surface_Carrez_du_3eme_lot     99879\n",
       "Surface_Carrez_du_4eme_lot    100098\n",
       "Surface_Carrez_du_5eme_lot    100152\n",
       "dtype: int64"
      ]
     },
     "execution_count": 199,
     "metadata": {},
     "output_type": "execute_result"
    }
   ],
   "source": [
    "# gestion des valeurs manquantes\n",
    "df_immo.isnull().sum()"
   ]
  },
  {
   "cell_type": "code",
   "execution_count": 200,
   "metadata": {},
   "outputs": [
    {
     "data": {
      "text/plain": [
       "(100169, 14)"
      ]
     },
     "execution_count": 200,
     "metadata": {},
     "output_type": "execute_result"
    }
   ],
   "source": [
    "# avec au minimum 98% de valeurs manquantes, nous supprimons certaines colonnes\n",
    "df_immo = df_immo.drop(columns=['Surface_Carrez_du_1er_lot', 'Surface_Carrez_du_2eme_lot', \n",
    "                                'Surface_Carrez_du_3eme_lot', 'Surface_Carrez_du_4eme_lot', \n",
    "                                'Surface_Carrez_du_5eme_lot', 'Nature_culture_speciale'], axis=1)\n",
    "df_immo.shape\n"
   ]
  },
  {
   "cell_type": "code",
   "execution_count": 201,
   "metadata": {},
   "outputs": [
    {
     "data": {
      "text/plain": [
       "index                            0\n",
       "Date_mutation                    0\n",
       "Annee                            0\n",
       "Commune                          0\n",
       "Code_postal                    225\n",
       "Code_commune                     0\n",
       "Valeur_fonciere                582\n",
       "Nature_mutation                  0\n",
       "Type_local                   54627\n",
       "Surface_reelle_bati          54767\n",
       "Nature_culture               22280\n",
       "Nombre_pieces_principales    54767\n",
       "Surface_terrain              22280\n",
       "Nombre_de_lots                   0\n",
       "dtype: int64"
      ]
     },
     "execution_count": 201,
     "metadata": {},
     "output_type": "execute_result"
    }
   ],
   "source": [
    "df_immo.isnull().sum()"
   ]
  },
  {
   "cell_type": "code",
   "execution_count": 202,
   "metadata": {},
   "outputs": [],
   "source": [
    "# remplacement des valeurs manquantes par la médiane\n",
    "import warnings\n",
    "warnings.filterwarnings(\"ignore\")\n",
    "\n",
    "median_valeur_fonciere = df_immo[df_immo['Valeur_fonciere'] > 0]['Valeur_fonciere'].median()\n",
    "df_immo['Valeur_fonciere'].fillna(median_valeur_fonciere, inplace=True)\n",
    "df_immo.loc[df_immo['Valeur_fonciere'] < 1, 'Valeur_fonciere'] = median_valeur_fonciere\n"
   ]
  },
  {
   "cell_type": "code",
   "execution_count": 203,
   "metadata": {},
   "outputs": [
    {
     "data": {
      "text/plain": [
       "3    52639\n",
       "0    25114\n",
       "2    20424\n",
       "5     1763\n",
       "6      225\n",
       "4        4\n",
       "Name: count, dtype: int64"
      ]
     },
     "execution_count": 203,
     "metadata": {},
     "output_type": "execute_result"
    }
   ],
   "source": [
    "# nombre de valeurs manquantes par lignes\n",
    "df_immo.isnull().sum(axis=1).value_counts()\n"
   ]
  },
  {
   "cell_type": "code",
   "execution_count": 204,
   "metadata": {},
   "outputs": [
    {
     "data": {
      "text/plain": [
       "index                            0\n",
       "Date_mutation                    0\n",
       "Annee                            0\n",
       "Commune                          0\n",
       "Code_postal                      0\n",
       "Code_commune                     0\n",
       "Valeur_fonciere                  0\n",
       "Nature_mutation                  0\n",
       "Type_local                   52639\n",
       "Surface_reelle_bati          52639\n",
       "Nature_culture                   0\n",
       "Nombre_pieces_principales    52639\n",
       "Surface_terrain                  0\n",
       "Nombre_de_lots                   0\n",
       "dtype: int64"
      ]
     },
     "execution_count": 204,
     "metadata": {},
     "output_type": "execute_result"
    }
   ],
   "source": [
    "# identifier les colonnes concernées et choisir la stratégie à adopter pour la gestion des VM\n",
    "df_immo[df_immo.isnull().sum(axis=1) == 3].isnull().sum()"
   ]
  },
  {
   "cell_type": "code",
   "execution_count": 205,
   "metadata": {},
   "outputs": [],
   "source": [
    "df_immo['Type_local'].fillna('Inconnu', inplace=True)\n",
    "\n",
    "median_srb = df_immo[df_immo['Surface_reelle_bati'] > 0]['Surface_reelle_bati'].median()\n",
    "df_immo['Surface_reelle_bati'].fillna(median_srb, inplace=True)\n",
    "df_immo.loc[df_immo['Surface_reelle_bati'] == 0, 'Surface_reelle_bati'] = median_srb\n",
    "\n",
    "df_immo['Nombre_pieces_principales'].fillna(df_immo['Nombre_pieces_principales'].median(), inplace=True)\n"
   ]
  },
  {
   "cell_type": "code",
   "execution_count": 206,
   "metadata": {},
   "outputs": [
    {
     "data": {
      "text/plain": [
       "index                            0\n",
       "Date_mutation                    0\n",
       "Annee                            0\n",
       "Commune                          0\n",
       "Code_postal                      0\n",
       "Code_commune                     0\n",
       "Valeur_fonciere                  0\n",
       "Nature_mutation                  0\n",
       "Type_local                       0\n",
       "Surface_reelle_bati              0\n",
       "Nature_culture               22055\n",
       "Nombre_pieces_principales        0\n",
       "Surface_terrain              22055\n",
       "Nombre_de_lots                   0\n",
       "dtype: int64"
      ]
     },
     "execution_count": 206,
     "metadata": {},
     "output_type": "execute_result"
    }
   ],
   "source": [
    "df_immo[df_immo.isnull().sum(axis=1) == 2].isnull().sum()"
   ]
  },
  {
   "cell_type": "code",
   "execution_count": 207,
   "metadata": {},
   "outputs": [],
   "source": [
    "df_immo['Nature_culture'].fillna('Inconnu', inplace=True)\n",
    "\n",
    "median_st = df_immo[df_immo['Surface_terrain'] > 0]['Surface_terrain'].median()\n",
    "df_immo['Surface_terrain'].fillna(median_st, inplace=True)\n",
    "df_immo.loc[df_immo['Surface_terrain'] < 0, 'Surface_terrain'] = median_st\n",
    "\n"
   ]
  },
  {
   "cell_type": "code",
   "execution_count": 208,
   "metadata": {},
   "outputs": [
    {
     "data": {
      "text/plain": [
       "array(['ST-GENIS-POUILLY', 'AMBERIEUX-EN-DOMBES', 'LEYMENT', 'CROZET',\n",
       "       'BOURG-EN-BRESSE', 'COLLONGES', 'DIVONNE-LES-BAINS', 'BUELLAS',\n",
       "       'VALSERHONE', 'BEYNOST', 'FERNEY-VOLTAIRE', 'MONTMERLE-SUR-SAONE',\n",
       "       'MONTREVEL-EN-BRESSE', 'POUGNY', 'SAINT-DENIS-LES-BOURG', 'GEX',\n",
       "       'BELLEY', 'CHATILLON-SUR-CHALARONNE', 'TREVOUX', 'BELIGNEUX',\n",
       "       'ORNEX', 'ST-GERMAIN-DE-JOUX', 'VERSONNEX',\n",
       "       'SAINT-LAURENT-SUR-SAONE', 'MIONNAY', 'NANTUA', 'DAGNEUX'],\n",
       "      dtype=object)"
      ]
     },
     "execution_count": 208,
     "metadata": {},
     "output_type": "execute_result"
    }
   ],
   "source": [
    "df_nan_cp = df_immo[df_immo['Code_postal'].isnull()]\n",
    "\n",
    "# Sélectionner uniquement les colonnes 'code commune' et 'Code_postal'\n",
    "df = df_nan_cp[['Commune', 'Code_commune', 'Code_postal']]\n",
    "df['Commune'].unique()\n"
   ]
  },
  {
   "cell_type": "code",
   "execution_count": 209,
   "metadata": {},
   "outputs": [
    {
     "data": {
      "text/plain": [
       "index                        0\n",
       "Date_mutation                0\n",
       "Annee                        0\n",
       "Commune                      0\n",
       "Code_postal                  0\n",
       "Code_commune                 0\n",
       "Valeur_fonciere              0\n",
       "Nature_mutation              0\n",
       "Type_local                   0\n",
       "Surface_reelle_bati          0\n",
       "Nature_culture               0\n",
       "Nombre_pieces_principales    0\n",
       "Surface_terrain              0\n",
       "Nombre_de_lots               0\n",
       "dtype: int64"
      ]
     },
     "execution_count": 209,
     "metadata": {},
     "output_type": "execute_result"
    }
   ],
   "source": [
    "\n",
    "dico_cp = {'ST-GENIS-POUILLY': '01630', 'AMBERIEUX-EN-DOMBES': '01330', 'LEYMENT': '', 'CROZET': '01170',\n",
    "       'BOURG-EN-BRESSE': '01000', 'COLLONGES': '01150', 'DIVONNE-LES-BAINS': '01220', 'BUELLAS': '01310',\n",
    "       'VALSERHONE': '01200', 'BEYNOST': '01600', 'FERNEY-VOLTAIRE': '01210', 'MONTMERLE-SUR-SAONE': '01090',\n",
    "       'MONTREVEL-EN-BRESSE': '01340', 'POUGNY': '01150', 'SAINT-DENIS-LES-BOURG': '01000', 'GEX': '01170',\n",
    "       'BELLEY': '01300', 'CHATILLON-SUR-CHALARONNE': '01400', 'TREVOUX': '01600', 'BELIGNEUX': '01360',\n",
    "       'ORNEX': '01210', 'ST-GERMAIN-DE-JOUX': '01130', 'VERSONNEX': '01270', 'SAINT-LAURENT-SUR-SAONE': '01750', \n",
    "       'MIONNAY': '01390', 'NANTUA': '01130', 'DAGNEUX': '01120'}\n",
    "\n",
    "df_immo['Code_postal'].replace('DIVONNE-LES-BAINS01150', 'DIVONNE-LES-BAINS')\n",
    "\n",
    "# masque = df_immo['Code_postal'].isna()\n",
    "# for index, row in df_immo.iterrows():\n",
    "#     if masque[index]:\n",
    "#         commune = row['commune']\n",
    "#         code_postal = dico_cp.get(commune)\n",
    "#         df_immo.loc[index, 'Code_postal'] = code_postal\n",
    "\n",
    "df_immo['Code_postal'] = df_immo.apply(lambda row: dico_cp.get(row['Commune']) if pd.isna(row['Code_postal']) else row['Code_postal'], axis=1)\n",
    "\n",
    "df_immo.isnull().sum()\n"
   ]
  },
  {
   "cell_type": "code",
   "execution_count": 210,
   "metadata": {},
   "outputs": [
    {
     "data": {
      "text/plain": [
       "0"
      ]
     },
     "execution_count": 210,
     "metadata": {},
     "output_type": "execute_result"
    }
   ],
   "source": [
    "df_immo.duplicated().sum()\n"
   ]
  },
  {
   "cell_type": "code",
   "execution_count": 211,
   "metadata": {},
   "outputs": [
    {
     "data": {
      "text/plain": [
       "(100169, 14)"
      ]
     },
     "execution_count": 211,
     "metadata": {},
     "output_type": "execute_result"
    }
   ],
   "source": [
    "df_immo.shape"
   ]
  },
  {
   "cell_type": "markdown",
   "metadata": {},
   "source": [
    "### Harmonisation des colonnes"
   ]
  },
  {
   "cell_type": "code",
   "execution_count": 212,
   "metadata": {},
   "outputs": [],
   "source": [
    "df_immo['Type_local'] = df_immo['Type_local'].str.replace('Ã©', 'é')\n",
    "df_immo['Type_local'] = df_immo['Type_local'].str.replace('Local industriel. commercial ou assimilé', \n",
    "                                                          'Local commercial')\n",
    "df_immo['Nature_mutation'] = df_immo['Nature_mutation'].replace({'Vente terrain Ã\\xa0 bÃ¢tir': \n",
    "                                                                 'Vente terrain a batir', \n",
    "                                                                 \"Vente en l'Ã©tat futur d'achÃ¨vement\": \n",
    "                                                                 \"Vente en l'etat futur d'achevement\"})\n"
   ]
  },
  {
   "cell_type": "code",
   "execution_count": 213,
   "metadata": {},
   "outputs": [],
   "source": [
    "dico = {'S': 'Sols', 'P': 'Prés', 'AG': \"Terrains d’agrément\", 'T': 'Terres', 'J': 'Jardins', 'AB': \"Terrains à bâtir\", 'VI': 'Vignes', 'L': 'Landes', 'BT': 'Taillis simples', \n",
    "        'CH': 'Chemins de fer, Canaux de Navigation', 'E': 'Eaux', 'PA': 'Pâtures ou Pâturages', 'BP': 'Peupleraies', 'BS': 'Taillis sous Futaies', 'VE': 'Vergers', \n",
    "        'PP': 'Prés, Pâtures ou Herbages plantes', 'BR': 'Futaies résineuses', 'B': 'Bois', 'BF': 'Futaies Feuillues', 'CA': 'Carrières', 'PC': 'Pacages ou Pâtis', \n",
    "        'BO': 'Oseraies', 'BM': 'Futaies Mixtes', 'PE': \"Prés d’embouche\", 'PH': 'Herbages', 'LB': 'Landes Boisées', 'TP': 'Terres plantées'}\n",
    "\n",
    "df_immo['Nature_culture'] = df_immo['Nature_culture'].replace(dico)\n"
   ]
  },
  {
   "cell_type": "markdown",
   "metadata": {},
   "source": [
    "### Création de nouvelles variables"
   ]
  },
  {
   "cell_type": "code",
   "execution_count": 214,
   "metadata": {},
   "outputs": [
    {
     "name": "stdout",
     "output_type": "stream",
     "text": [
      "0.0\n",
      "1100000.0\n"
     ]
    },
    {
     "data": {
      "text/plain": [
       "count    1.001690e+05\n",
       "mean     2.947531e+03\n",
       "std      9.092053e+03\n",
       "min      0.000000e+00\n",
       "25%      4.444440e+02\n",
       "50%      1.869565e+03\n",
       "75%      3.400000e+03\n",
       "max      1.100000e+06\n",
       "Name: Prix_m2, dtype: float64"
      ]
     },
     "execution_count": 214,
     "metadata": {},
     "output_type": "execute_result"
    }
   ],
   "source": [
    "# nouvelles variables pouvant être utiles à l'analyse\n",
    "df_immo['Prix_m2'] = round(df_immo['Valeur_fonciere'] / df_immo['Surface_reelle_bati'], 3)\n",
    "print(df_immo['Prix_m2'].min())\n",
    "print(df_immo['Prix_m2'].max())\n",
    "\n",
    "df_immo['Prix_m2'].describe()\n",
    "\n",
    "# il faut absolument gérer les valeurs aberrantes"
   ]
  },
  {
   "cell_type": "code",
   "execution_count": 215,
   "metadata": {},
   "outputs": [
    {
     "data": {
      "text/plain": [
       "1.0"
      ]
     },
     "execution_count": 215,
     "metadata": {},
     "output_type": "execute_result"
    }
   ],
   "source": [
    "median_prixm2 = df_immo[df_immo['Prix_m2'] > 0]['Prix_m2'].median()\n",
    "df_immo.loc[df_immo['Prix_m2'] < 1, 'Prix_m2'] = median_prixm2\n",
    "df_immo['Prix_m2'].min()\n"
   ]
  },
  {
   "cell_type": "code",
   "execution_count": 216,
   "metadata": {},
   "outputs": [],
   "source": [
    "# catégorie des natures de mutation\n",
    "def categoriser_mutation(nature):\n",
    "    if nature in [\"Vente\", \"Vente terrain a batir\", \"Vente en l’etat futur d’achevement\"]:\n",
    "        return \"Vente classique\"\n",
    "    elif nature in [\"Adjudication\", \"Expropriation\"]:\n",
    "        return \"Mutation forcée\"\n",
    "    elif nature in [\"Échange\"]:\n",
    "        return \"Mutation atypique\"\n",
    "    else:\n",
    "        return \"Autre\"\n",
    "\n",
    "df_immo[\"Categorie mutation\"] = df_immo[\"Nature_mutation\"].apply(categoriser_mutation)"
   ]
  },
  {
   "cell_type": "markdown",
   "metadata": {},
   "source": [
    "# 3. Gestion des valeurs extrêmes (valeurs foncieres, prix, surfaces)"
   ]
  },
  {
   "cell_type": "code",
   "execution_count": 217,
   "metadata": {},
   "outputs": [
    {
     "data": {
      "image/png": "[encoded data removed]",
      "text/plain": [
       "<Figure size 640x480 with 1 Axes>"
      ]
     },
     "metadata": {},
     "output_type": "display_data"
    }
   ],
   "source": [
    "import seaborn as sns\n",
    "import matplotlib.pyplot as plt\n",
    "\n",
    "sns.boxplot(x=df_immo['Prix_m2'])\n",
    "plt.title(\"Boxplot des prix au m2\")\n",
    "plt.xlabel(\"Prix au m2\")\n",
    "plt.show();"
   ]
  },
  {
   "cell_type": "code",
   "execution_count": 218,
   "metadata": {},
   "outputs": [],
   "source": [
    "# remplacer les valeurs aberrantes\n",
    "Q1 = df_immo['Prix_m2'].quantile(0.25)\n",
    "Q3 = df_immo['Prix_m2'].quantile(0.75)\n",
    "IQR = Q3 - Q1\n",
    "\n",
    "lower_bound = Q1 - 3 * IQR\n",
    "upper_bound = Q3 + 3 * IQR\n",
    "\n",
    "df_immo.loc[df_immo['Prix_m2'] > upper_bound, 'Prix_m2'] = median_prixm2\n",
    "df_immo.loc[df_immo['Prix_m2'] < lower_bound, 'Prix_m2'] = median_prixm2"
   ]
  },
  {
   "cell_type": "code",
   "execution_count": 219,
   "metadata": {},
   "outputs": [
    {
     "data": {
      "image/png": "[encoded data removed]",
      "text/plain": [
       "<Figure size 640x480 with 1 Axes>"
      ]
     },
     "metadata": {},
     "output_type": "display_data"
    }
   ],
   "source": [
    "\n",
    "sns.boxplot(x=df_immo['Valeur_fonciere'])\n",
    "plt.title(\"Boxplot valeur foncière\")\n",
    "plt.xlabel(\"Valeur foncière\")\n",
    "plt.show();"
   ]
  },
  {
   "cell_type": "code",
   "execution_count": 220,
   "metadata": {},
   "outputs": [
    {
     "data": {
      "image/png": "[encoded data removed]",
      "text/plain": [
       "<Figure size 640x480 with 1 Axes>"
      ]
     },
     "metadata": {},
     "output_type": "display_data"
    }
   ],
   "source": [
    "sns.boxplot(x=df_immo['Surface_reelle_bati'])\n",
    "plt.title(\"Boxplot Surface reelle batie\")\n",
    "plt.xlabel(\"Surface reelle batie\")\n",
    "plt.show();"
   ]
  },
  {
   "cell_type": "code",
   "execution_count": 221,
   "metadata": {},
   "outputs": [
    {
     "data": {
      "image/png": "[encoded data removed]",
      "text/plain": [
       "<Figure size 640x480 with 1 Axes>"
      ]
     },
     "metadata": {},
     "output_type": "display_data"
    }
   ],
   "source": [
    "sns.boxplot(x=df_immo['Surface_terrain'])\n",
    "plt.title(\"Boxplot Surface terrain\")\n",
    "plt.xlabel(\"Surface terrain\")\n",
    "plt.show();"
   ]
  },
  {
   "cell_type": "markdown",
   "metadata": {},
   "source": [
    "# 4. Description des données (visualisations)"
   ]
  },
  {
   "cell_type": "code",
   "execution_count": 222,
   "metadata": {},
   "outputs": [
    {
     "data": {
      "text/html": [
       "<div>\n",
       "<style scoped>\n",
       "    .dataframe tbody tr th:only-of-type {\n",
       "        vertical-align: middle;\n",
       "    }\n",
       "\n",
       "    .dataframe tbody tr th {\n",
       "        vertical-align: top;\n",
       "    }\n",
       "\n",
       "    .dataframe thead th {\n",
       "        text-align: right;\n",
       "    }\n",
       "</style>\n",
       "<table border=\"1\" class=\"dataframe\">\n",
       "  <thead>\n",
       "    <tr style=\"text-align: right;\">\n",
       "      <th></th>\n",
       "      <th>index</th>\n",
       "      <th>Date_mutation</th>\n",
       "      <th>Annee</th>\n",
       "      <th>Code_commune</th>\n",
       "      <th>Valeur_fonciere</th>\n",
       "      <th>Surface_reelle_bati</th>\n",
       "      <th>Nombre_pieces_principales</th>\n",
       "      <th>Surface_terrain</th>\n",
       "      <th>Nombre_de_lots</th>\n",
       "      <th>Prix_m2</th>\n",
       "    </tr>\n",
       "  </thead>\n",
       "  <tbody>\n",
       "    <tr>\n",
       "      <th>count</th>\n",
       "      <td>100169.000000</td>\n",
       "      <td>100169</td>\n",
       "      <td>100169.000000</td>\n",
       "      <td>100169.000000</td>\n",
       "      <td>1.001690e+05</td>\n",
       "      <td>100169.000000</td>\n",
       "      <td>100169.000000</td>\n",
       "      <td>100169.000000</td>\n",
       "      <td>100169.000000</td>\n",
       "      <td>100169.000000</td>\n",
       "    </tr>\n",
       "    <tr>\n",
       "      <th>mean</th>\n",
       "      <td>56764.409917</td>\n",
       "      <td>2023-03-07 20:42:51.094849536</td>\n",
       "      <td>2022.713913</td>\n",
       "      <td>211.955944</td>\n",
       "      <td>2.630909e+05</td>\n",
       "      <td>107.001907</td>\n",
       "      <td>2.062245</td>\n",
       "      <td>1873.721950</td>\n",
       "      <td>0.310615</td>\n",
       "      <td>2262.794995</td>\n",
       "    </tr>\n",
       "    <tr>\n",
       "      <th>min</th>\n",
       "      <td>0.000000</td>\n",
       "      <td>2022-01-03 00:00:00</td>\n",
       "      <td>2022.000000</td>\n",
       "      <td>1.000000</td>\n",
       "      <td>1.000000e+00</td>\n",
       "      <td>1.000000</td>\n",
       "      <td>0.000000</td>\n",
       "      <td>1.000000</td>\n",
       "      <td>0.000000</td>\n",
       "      <td>1.000000</td>\n",
       "    </tr>\n",
       "    <tr>\n",
       "      <th>25%</th>\n",
       "      <td>28077.000000</td>\n",
       "      <td>2022-07-21 00:00:00</td>\n",
       "      <td>2022.000000</td>\n",
       "      <td>89.000000</td>\n",
       "      <td>4.000000e+04</td>\n",
       "      <td>90.000000</td>\n",
       "      <td>2.000000</td>\n",
       "      <td>305.000000</td>\n",
       "      <td>0.000000</td>\n",
       "      <td>567.556000</td>\n",
       "    </tr>\n",
       "    <tr>\n",
       "      <th>50%</th>\n",
       "      <td>56879.000000</td>\n",
       "      <td>2023-02-23 00:00:00</td>\n",
       "      <td>2023.000000</td>\n",
       "      <td>202.000000</td>\n",
       "      <td>1.640000e+05</td>\n",
       "      <td>90.000000</td>\n",
       "      <td>2.000000</td>\n",
       "      <td>620.000000</td>\n",
       "      <td>0.000000</td>\n",
       "      <td>1869.616000</td>\n",
       "    </tr>\n",
       "    <tr>\n",
       "      <th>75%</th>\n",
       "      <td>85313.000000</td>\n",
       "      <td>2023-10-13 00:00:00</td>\n",
       "      <td>2023.000000</td>\n",
       "      <td>322.000000</td>\n",
       "      <td>3.100000e+05</td>\n",
       "      <td>90.000000</td>\n",
       "      <td>2.000000</td>\n",
       "      <td>1076.000000</td>\n",
       "      <td>0.000000</td>\n",
       "      <td>3206.328000</td>\n",
       "    </tr>\n",
       "    <tr>\n",
       "      <th>max</th>\n",
       "      <td>113965.000000</td>\n",
       "      <td>2024-06-29 00:00:00</td>\n",
       "      <td>2024.000000</td>\n",
       "      <td>457.000000</td>\n",
       "      <td>7.065918e+07</td>\n",
       "      <td>265000.000000</td>\n",
       "      <td>14.000000</td>\n",
       "      <td>734066.000000</td>\n",
       "      <td>55.000000</td>\n",
       "      <td>11891.892000</td>\n",
       "    </tr>\n",
       "    <tr>\n",
       "      <th>std</th>\n",
       "      <td>33002.661557</td>\n",
       "      <td>NaN</td>\n",
       "      <td>0.727336</td>\n",
       "      <td>133.805432</td>\n",
       "      <td>8.068837e+05</td>\n",
       "      <td>947.381489</td>\n",
       "      <td>1.467178</td>\n",
       "      <td>7713.576143</td>\n",
       "      <td>0.716180</td>\n",
       "      <td>2108.110730</td>\n",
       "    </tr>\n",
       "  </tbody>\n",
       "</table>\n",
       "</div>"
      ],
      "text/plain": [
       "               index                  Date_mutation          Annee  \\\n",
       "count  100169.000000                         100169  100169.000000   \n",
       "mean    56764.409917  2023-03-07 20:42:51.094849536    2022.713913   \n",
       "min         0.000000            2022-01-03 00:00:00    2022.000000   \n",
       "25%     28077.000000            2022-07-21 00:00:00    2022.000000   \n",
       "50%     56879.000000            2023-02-23 00:00:00    2023.000000   \n",
       "75%     85313.000000            2023-10-13 00:00:00    2023.000000   \n",
       "max    113965.000000            2024-06-29 00:00:00    2024.000000   \n",
       "std     33002.661557                            NaN       0.727336   \n",
       "\n",
       "        Code_commune  Valeur_fonciere  Surface_reelle_bati  \\\n",
       "count  100169.000000     1.001690e+05        100169.000000   \n",
       "mean      211.955944     2.630909e+05           107.001907   \n",
       "min         1.000000     1.000000e+00             1.000000   \n",
       "25%        89.000000     4.000000e+04            90.000000   \n",
       "50%       202.000000     1.640000e+05            90.000000   \n",
       "75%       322.000000     3.100000e+05            90.000000   \n",
       "max       457.000000     7.065918e+07        265000.000000   \n",
       "std       133.805432     8.068837e+05           947.381489   \n",
       "\n",
       "       Nombre_pieces_principales  Surface_terrain  Nombre_de_lots  \\\n",
       "count              100169.000000    100169.000000   100169.000000   \n",
       "mean                    2.062245      1873.721950        0.310615   \n",
       "min                     0.000000         1.000000        0.000000   \n",
       "25%                     2.000000       305.000000        0.000000   \n",
       "50%                     2.000000       620.000000        0.000000   \n",
       "75%                     2.000000      1076.000000        0.000000   \n",
       "max                    14.000000    734066.000000       55.000000   \n",
       "std                     1.467178      7713.576143        0.716180   \n",
       "\n",
       "             Prix_m2  \n",
       "count  100169.000000  \n",
       "mean     2262.794995  \n",
       "min         1.000000  \n",
       "25%       567.556000  \n",
       "50%      1869.616000  \n",
       "75%      3206.328000  \n",
       "max     11891.892000  \n",
       "std      2108.110730  "
      ]
     },
     "execution_count": 222,
     "metadata": {},
     "output_type": "execute_result"
    }
   ],
   "source": [
    "# description des données\n",
    "df_immo.describe()"
   ]
  },
  {
   "cell_type": "code",
   "execution_count": 223,
   "metadata": {},
   "outputs": [
    {
     "data": {
      "image/png": "[encoded data removed]",
      "text/plain": [
       "<Figure size 640x480 with 1 Axes>"
      ]
     },
     "metadata": {},
     "output_type": "display_data"
    }
   ],
   "source": [
    "sns.scatterplot(data=df_immo, x=\"Prix_m2\", y=\"Valeur_fonciere\")\n",
    "plt.xlabel(\"Prix au m2\")\n",
    "plt.ylabel(\"Valeur fonciere\")\n",
    "plt.show;"
   ]
  },
  {
   "cell_type": "code",
   "execution_count": 224,
   "metadata": {},
   "outputs": [
    {
     "data": {
      "image/png": "[encoded data removed]",
      "text/plain": [
       "<Figure size 640x480 with 1 Axes>"
      ]
     },
     "metadata": {},
     "output_type": "display_data"
    }
   ],
   "source": [
    "sns.scatterplot(data=df_immo, x=\"Surface_reelle_bati\", y=\"Prix_m2\")\n",
    "plt.xlabel(\"Surface_reelle_bati\")\n",
    "plt.ylabel(\"Prix au m2\")\n",
    "plt.show;"
   ]
  },
  {
   "cell_type": "code",
   "execution_count": 225,
   "metadata": {},
   "outputs": [
    {
     "data": {
      "image/png": "[encoded data removed]",
      "text/plain": [
       "<Figure size 640x480 with 1 Axes>"
      ]
     },
     "metadata": {},
     "output_type": "display_data"
    }
   ],
   "source": [
    "sns.scatterplot(data=df_immo, x=\"Surface_reelle_bati\", y=\"Prix_m2\")\n",
    "plt.xlabel(\"Surface_reelle_bati\")\n",
    "plt.ylabel(\"Prix au m2\")\n",
    "plt.show;"
   ]
  },
  {
   "cell_type": "code",
   "execution_count": 232,
   "metadata": {},
   "outputs": [
    {
     "data": {
      "text/plain": [
       "Index(['Date_mutation', 'Annee', 'Commune', 'Code_postal', 'Code_commune',\n",
       "       'Valeur_fonciere', 'Nature_mutation', 'Type_local',\n",
       "       'Surface_reelle_bati', 'Nature_culture', 'Nombre_pieces_principales',\n",
       "       'Surface_terrain', 'Nombre_de_lots', 'Prix_m2', 'Categorie mutation'],\n",
       "      dtype='object')"
      ]
     },
     "execution_count": 232,
     "metadata": {},
     "output_type": "execute_result"
    }
   ],
   "source": [
    "df_immo.columns"
   ]
  },
  {
   "cell_type": "code",
   "execution_count": 233,
   "metadata": {},
   "outputs": [
    {
     "data": {
      "image/png": "[encoded data removed]",
      "text/plain": [
       "<Figure size 640x480 with 2 Axes>"
      ]
     },
     "metadata": {},
     "output_type": "display_data"
    }
   ],
   "source": [
    "# corrélation entre les variables\n",
    "\n",
    "matrix_cor = df_immo.select_dtypes(include=['number']).corr()\n",
    "sns.heatmap(matrix_cor, cmap=\"crest\")\n",
    "plt.show();"
   ]
  },
  {
   "cell_type": "code",
   "execution_count": 234,
   "metadata": {},
   "outputs": [
    {
     "data": {
      "text/plain": [
       "(100169, 15)"
      ]
     },
     "execution_count": 234,
     "metadata": {},
     "output_type": "execute_result"
    }
   ],
   "source": [
    "df_immo.shape"
   ]
  },
  {
   "cell_type": "code",
   "execution_count": 235,
   "metadata": {},
   "outputs": [],
   "source": [
    "df_immo.to_csv(\"df_immo_ain.csv\")"
   ]
  }
 ],
 "metadata": {
  "colab": {
   "provenance": [
    {
     "file_id": "10gWGkBtyguVZsWBTieHP7S04sE4JVldT",
     "timestamp": 1739212921861
    }
   ]
  },
  "kernelspec": {
   "display_name": "base",
   "language": "python",
   "name": "python3"
  },
  "language_info": {
   "codemirror_mode": {
    "name": "ipython",
    "version": 3
   },
   "file_extension": ".py",
   "mimetype": "text/x-python",
   "name": "python",
   "nbconvert_exporter": "python",
   "pygments_lexer": "ipython3",
   "version": "3.12.7"
  }
 },
 "nbformat": 4,
 "nbformat_minor": 0
}
