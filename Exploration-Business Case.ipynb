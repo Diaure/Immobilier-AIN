{
 "cells": [
  {
   "cell_type": "markdown",
   "metadata": {
    "id": "QjlJHoHEaQTW"
   },
   "source": [
    "# BLOC 4 : Analyse du Marché Immobilier - Département de l'Ain (6 heures)\n",
    "\n",
    "La Direction Départementale des Territoires (DDT) de l'Ain vous a recruté en tant que Data Analyst pour créer un tableau de bord interactif destiné aux collectivités locales et aux professionnels de l'immobilier. Ce tableau de bord servira à mieux comprendre les dynamiques du marché immobilier local et à orienter les politiques d'aménagement du territoire.\n",
    "\n",
    "La DDT dispose d'une base de données exhaustive des transactions immobilières (données DVF - Demandes de Valeurs Foncières) couvrant les trois dernières années. Ces données comprennent :\n",
    "\n",
    "* Informations sur la transaction\n",
    "  - Identifiant unique\n",
    "  - Date de mutation\n",
    "  - Nature de la mutation\n",
    "  - Valeur foncière (prix de vente)\n",
    "\n",
    "* Localisation précise du bien\n",
    "  - Adresse complète (numéro, type de voie, nom de voie)\n",
    "  - Code postal\n",
    "  - Commune\n",
    "  - Code département\n",
    "  - Références cadastrales (section, numéro de plan)\n",
    "\n",
    "* Caractéristiques du bien\n",
    "  - Type de local (appartement, maison, dépendance)\n",
    "  - Surface réelle bâtie\n",
    "  - Nombre de pièces principales\n",
    "  - Surface Carrez (pour les copropriétés)\n",
    "  - Nature et surface du terrain\n",
    "  - Nombre de lots\n",
    "\n",
    "Votre mission est de créer un tableau de bord interactif complet qui permettra aux utilisateurs d'analyser :\n",
    "\n",
    "* L'évolution des prix\n",
    "  - Prix moyen par commune\n",
    "  - Prix au m² par type de bien\n",
    "  - Tendances temporelles des transactions\n",
    "\n",
    "* La typologie des biens\n",
    "  - Répartition par type de local\n",
    "  - Distribution des surfaces\n",
    "  - Analyse des terrains non bâtis\n",
    "\n",
    "* Les dynamiques territoriales\n",
    "  - Nombre de transactions par commune\n",
    "  - Cartographie des prix\n",
    "  - Identification des zones de tension\n",
    "\n",
    "Le tableau de bord devra répondre à des questions stratégiques telles que :\n",
    "\n",
    "* Quelles sont les communes les plus dynamiques en termes de transactions ?\n",
    "* Comment évoluent les prix selon les typologies de biens ?\n",
    "* Existe-t-il des disparités significatives entre les différents secteurs du département ?\n",
    "* Quel est le profil type des biens vendus par commune ?\n",
    "* Quelles sont les tendances du marché des terrains non bâtis ?\n",
    "\n",
    "En complément du tableau de bord, vous devrez produire :\n",
    "\n",
    "1. Une méthodologie détaillée de traitement des données\n",
    "   - Nettoyage des valeurs aberrantes\n",
    "   - Harmonisation des types de biens\n",
    "   - Traitement des données cadastrales\n",
    "\n",
    "2. Une analyse approfondie incluant\n",
    "   - Les tendances majeures du marché\n",
    "   - Les spécificités territoriales identifiées\n",
    "   - Les recommandations pour les politiques locales de l'habitat\n",
    "\n",
    "3. Un guide d'utilisation destiné aux utilisateurs finaux\n",
    "   - Présentation des différentes fonctionnalités\n",
    "   - Exemples de cas d'usage\n",
    "   - Précautions d'interprétation\n",
    "\n",
    "Ce projet permettra aux acteurs locaux de :\n",
    "- Mieux comprendre les dynamiques du marché immobilier local\n",
    "- Adapter les politiques d'urbanisme aux réalités du territoire\n",
    "- Anticiper les évolutions du marché\n",
    "- Identifier les zones nécessitant une attention particulière\n",
    "\n",
    "Points d'attention particuliers :\n",
    "- La qualité variable des données cadastrales\n",
    "- La nécessité de croiser les données avec d'autres sources (PLU, zonages...)\n",
    "- L'importance de la dimension temporelle dans l'analyse\n",
    "- La confidentialité des données individuelles\n",
    "\n",
    "Votre analyse devra être accessible aux non-spécialistes tout en conservant la rigueur nécessaire à la prise de décision."
   ]
  },
  {
   "cell_type": "markdown",
   "metadata": {},
   "source": [
    "# 1. **Fusion des tables en une seule**\n",
    "\n",
    "## **Préparation des données**"
   ]
  },
  {
   "cell_type": "markdown",
   "metadata": {
    "id": "lvD2J6qfcpGF"
   },
   "source": [
    "## Données 2024 (1er semestre)"
   ]
  },
  {
   "cell_type": "code",
   "execution_count": 2,
   "metadata": {
    "colab": {
     "base_uri": "https://localhost:8080/"
    },
    "executionInfo": {
     "elapsed": 17341,
     "status": "ok",
     "timestamp": 1739213853208,
     "user": {
      "displayName": "Aurélie GABU",
      "userId": "10997725835620303151"
     },
     "user_tz": -60
    },
    "id": "tUX6LLqCYmhR",
    "outputId": "497f0d36-d54a-4f0d-8fab-ee20a4794c62"
   },
   "outputs": [
    {
     "name": "stdout",
     "output_type": "stream",
     "text": [
      "<class 'pandas.core.frame.DataFrame'>\n",
      "RangeIndex: 1566643 entries, 0 to 1566642\n",
      "Data columns (total 43 columns):\n",
      " #   Column                      Non-Null Count    Dtype  \n",
      "---  ------                      --------------    -----  \n",
      " 0   Identifiant de document     0 non-null        float64\n",
      " 1   Reference document          0 non-null        float64\n",
      " 2   1 Articles CGI              0 non-null        float64\n",
      " 3   2 Articles CGI              0 non-null        float64\n",
      " 4   3 Articles CGI              0 non-null        float64\n",
      " 5   4 Articles CGI              0 non-null        float64\n",
      " 6   5 Articles CGI              0 non-null        float64\n",
      " 7   No disposition              1566643 non-null  int64  \n",
      " 8   Date mutation               1566643 non-null  object \n",
      " 9   Nature mutation             1566643 non-null  object \n",
      " 10  Valeur fonciere             1549589 non-null  object \n",
      " 11  No voie                     946773 non-null   float64\n",
      " 12  B/T/Q                       67087 non-null    object \n",
      " 13  Type de voie                912892 non-null   object \n",
      " 14  Code voie                   1558442 non-null  object \n",
      " 15  Voie                        1558411 non-null  object \n",
      " 16  Code postal                 1558158 non-null  float64\n",
      " 17  Commune                     1566643 non-null  object \n",
      " 18  Code departement            1566643 non-null  object \n",
      " 19  Code commune                1566643 non-null  int64  \n",
      " 20  Prefixe de section          75237 non-null    float64\n",
      " 21  Section                     1566597 non-null  object \n",
      " 22  No plan                     1566643 non-null  int64  \n",
      " 23  No Volume                   3625 non-null     object \n",
      " 24  1er lot                     464225 non-null   object \n",
      " 25  Surface Carrez du 1er lot   135310 non-null   object \n",
      " 26  2eme lot                    147516 non-null   object \n",
      " 27  Surface Carrez du 2eme lot  45120 non-null    object \n",
      " 28  3eme lot                    25067 non-null    object \n",
      " 29  Surface Carrez du 3eme lot  4970 non-null     object \n",
      " 30  4eme lot                    7720 non-null     object \n",
      " 31  Surface Carrez du 4eme lot  1116 non-null     object \n",
      " 32  5eme lot                    3017 non-null     float64\n",
      " 33  Surface Carrez du 5eme lot  320 non-null      object \n",
      " 34  Nombre de lots              1566643 non-null  int64  \n",
      " 35  Code type local             879876 non-null   float64\n",
      " 36  Type local                  879876 non-null   object \n",
      " 37  Identifiant local           0 non-null        float64\n",
      " 38  Surface reelle bati         878849 non-null   float64\n",
      " 39  Nombre pieces principales   878849 non-null   float64\n",
      " 40  Nature culture              1095453 non-null  object \n",
      " 41  Nature culture speciale     73429 non-null    object \n",
      " 42  Surface terrain             1095453 non-null  float64\n",
      "dtypes: float64(16), int64(4), object(23)\n",
      "memory usage: 514.0+ MB\n"
     ]
    }
   ],
   "source": [
    "import pandas as pd\n",
    "\n",
    "df_2024 = pd.read_csv('https://www.data.gouv.fr/fr/datasets/r/1dc47de2-b30a-4497-b9ef-448d054b5a4f',\n",
    "                 sep='|',                # Séparateur |\n",
    "                 encoding='latin-1',     # Encodage pour les caractères français\n",
    "                 compression='zip',      # Spécifie que c'est un fichier zip\n",
    "                 low_memory=False)       # Pour éviter les warnings de memory\n",
    "\n",
    "df_2024.info()"
   ]
  },
  {
   "cell_type": "code",
   "execution_count": 3,
   "metadata": {},
   "outputs": [
    {
     "data": {
      "text/plain": [
       "Identifiant de document       1566643\n",
       "Reference document            1566643\n",
       "1 Articles CGI                1566643\n",
       "2 Articles CGI                1566643\n",
       "3 Articles CGI                1566643\n",
       "4 Articles CGI                1566643\n",
       "5 Articles CGI                1566643\n",
       "No disposition                      0\n",
       "Date mutation                       0\n",
       "Nature mutation                     0\n",
       "Valeur fonciere                 17054\n",
       "No voie                        619870\n",
       "B/T/Q                         1499556\n",
       "Type de voie                   653751\n",
       "Code voie                        8201\n",
       "Voie                             8232\n",
       "Code postal                      8485\n",
       "Commune                             0\n",
       "Code departement                    0\n",
       "Code commune                        0\n",
       "Prefixe de section            1491406\n",
       "Section                            46\n",
       "No plan                             0\n",
       "No Volume                     1563018\n",
       "1er lot                       1102418\n",
       "Surface Carrez du 1er lot     1431333\n",
       "2eme lot                      1419127\n",
       "Surface Carrez du 2eme lot    1521523\n",
       "3eme lot                      1541576\n",
       "Surface Carrez du 3eme lot    1561673\n",
       "4eme lot                      1558923\n",
       "Surface Carrez du 4eme lot    1565527\n",
       "5eme lot                      1563626\n",
       "Surface Carrez du 5eme lot    1566323\n",
       "Nombre de lots                      0\n",
       "Code type local                686767\n",
       "Type local                     686767\n",
       "Identifiant local             1566643\n",
       "Surface reelle bati            687794\n",
       "Nombre pieces principales      687794\n",
       "Nature culture                 471190\n",
       "Nature culture speciale       1493214\n",
       "Surface terrain                471190\n",
       "dtype: int64"
      ]
     },
     "execution_count": 3,
     "metadata": {},
     "output_type": "execute_result"
    }
   ],
   "source": [
    "df_2024.isnull().sum()"
   ]
  },
  {
   "cell_type": "code",
   "execution_count": 4,
   "metadata": {},
   "outputs": [],
   "source": [
    "df_2024.columns = df_2024.columns.str.replace(' ', '_')"
   ]
  },
  {
   "cell_type": "code",
   "execution_count": 5,
   "metadata": {},
   "outputs": [
    {
     "name": "stdout",
     "output_type": "stream",
     "text": [
      "<class 'pandas.core.frame.DataFrame'>\n",
      "Index: 18569 entries, 0 to 18568\n",
      "Data columns (total 43 columns):\n",
      " #   Column                      Non-Null Count  Dtype  \n",
      "---  ------                      --------------  -----  \n",
      " 0   Identifiant_de_document     0 non-null      float64\n",
      " 1   Reference_document          0 non-null      float64\n",
      " 2   1_Articles_CGI              0 non-null      float64\n",
      " 3   2_Articles_CGI              0 non-null      float64\n",
      " 4   3_Articles_CGI              0 non-null      float64\n",
      " 5   4_Articles_CGI              0 non-null      float64\n",
      " 6   5_Articles_CGI              0 non-null      float64\n",
      " 7   No_disposition              18569 non-null  int64  \n",
      " 8   Date_mutation               18569 non-null  object \n",
      " 9   Nature_mutation             18569 non-null  object \n",
      " 10  Valeur_fonciere             18372 non-null  object \n",
      " 11  No_voie                     8259 non-null   float64\n",
      " 12  B/T/Q                       487 non-null    object \n",
      " 13  Type_de_voie                7833 non-null   object \n",
      " 14  Code_voie                   18494 non-null  object \n",
      " 15  Voie                        18494 non-null  object \n",
      " 16  Code_postal                 18494 non-null  float64\n",
      " 17  Commune                     18569 non-null  object \n",
      " 18  Code_departement            18569 non-null  object \n",
      " 19  Code_commune                18569 non-null  int64  \n",
      " 20  Prefixe_de_section          927 non-null    float64\n",
      " 21  Section                     18569 non-null  object \n",
      " 22  No_plan                     18569 non-null  int64  \n",
      " 23  No_Volume                   56 non-null     object \n",
      " 24  1er_lot                     4217 non-null   object \n",
      " 25  Surface_Carrez_du_1er_lot   1042 non-null   object \n",
      " 26  2eme_lot                    1294 non-null   object \n",
      " 27  Surface_Carrez_du_2eme_lot  483 non-null    object \n",
      " 28  3eme_lot                    314 non-null    object \n",
      " 29  Surface_Carrez_du_3eme_lot  71 non-null     object \n",
      " 30  4eme_lot                    95 non-null     object \n",
      " 31  Surface_Carrez_du_4eme_lot  18 non-null     object \n",
      " 32  5eme_lot                    23 non-null     float64\n",
      " 33  Surface_Carrez_du_5eme_lot  0 non-null      object \n",
      " 34  Nombre_de_lots              18569 non-null  int64  \n",
      " 35  Code_type_local             8055 non-null   float64\n",
      " 36  Type_local                  8055 non-null   object \n",
      " 37  Identifiant_local           0 non-null      float64\n",
      " 38  Surface_reelle_bati         8004 non-null   float64\n",
      " 39  Nombre_pieces_principales   8004 non-null   float64\n",
      " 40  Nature_culture              14200 non-null  object \n",
      " 41  Nature_culture_speciale     426 non-null    object \n",
      " 42  Surface_terrain             14200 non-null  float64\n",
      "dtypes: float64(16), int64(4), object(23)\n",
      "memory usage: 6.2+ MB\n"
     ]
    }
   ],
   "source": [
    "df_2024 = df_2024[df_2024['Code_departement'] == '01']\n",
    "df_2024.info()"
   ]
  },
  {
   "cell_type": "code",
   "execution_count": null,
   "metadata": {},
   "outputs": [],
   "source": [
    "# df_2024 = df_2024.drop(['Reference_document', '1_Articles_CGI', '2_Articles_CGI', '3_Articles_CGI', '4_Articles_CGI', '5_Articles_CGI', 'No_disposition','B/T/Q', 'Nature_culture_speciale', \n",
    "#                        'No_Volume', '1er_lot', '2eme_lot', '3eme_lot', '4eme_lot', '5eme_lot' , 'Prefixe_de_section', 'Identifiant_local'], axis=1)"
   ]
  },
  {
   "cell_type": "markdown",
   "metadata": {
    "id": "7TG8F3ITcv_8"
   },
   "source": [
    "## Données 2023 (Année complète)"
   ]
  },
  {
   "cell_type": "code",
   "execution_count": 7,
   "metadata": {
    "colab": {
     "base_uri": "https://localhost:8080/"
    },
    "executionInfo": {
     "elapsed": 35091,
     "status": "ok",
     "timestamp": 1739213901076,
     "user": {
      "displayName": "Aurélie GABU",
      "userId": "10997725835620303151"
     },
     "user_tz": -60
    },
    "id": "L5y_DUt1c0NS",
    "outputId": "8a7121cf-41eb-4959-e1ab-278617e31bab"
   },
   "outputs": [
    {
     "name": "stdout",
     "output_type": "stream",
     "text": [
      "<class 'pandas.core.frame.DataFrame'>\n",
      "RangeIndex: 3799407 entries, 0 to 3799406\n",
      "Data columns (total 43 columns):\n",
      " #   Column                      Dtype  \n",
      "---  ------                      -----  \n",
      " 0   Identifiant de document     float64\n",
      " 1   Reference document          float64\n",
      " 2   1 Articles CGI              float64\n",
      " 3   2 Articles CGI              float64\n",
      " 4   3 Articles CGI              float64\n",
      " 5   4 Articles CGI              float64\n",
      " 6   5 Articles CGI              float64\n",
      " 7   No disposition              int64  \n",
      " 8   Date mutation               object \n",
      " 9   Nature mutation             object \n",
      " 10  Valeur fonciere             object \n",
      " 11  No voie                     float64\n",
      " 12  B/T/Q                       object \n",
      " 13  Type de voie                object \n",
      " 14  Code voie                   object \n",
      " 15  Voie                        object \n",
      " 16  Code postal                 float64\n",
      " 17  Commune                     object \n",
      " 18  Code departement            object \n",
      " 19  Code commune                int64  \n",
      " 20  Prefixe de section          float64\n",
      " 21  Section                     object \n",
      " 22  No plan                     int64  \n",
      " 23  No Volume                   object \n",
      " 24  1er lot                     object \n",
      " 25  Surface Carrez du 1er lot   object \n",
      " 26  2eme lot                    object \n",
      " 27  Surface Carrez du 2eme lot  object \n",
      " 28  3eme lot                    object \n",
      " 29  Surface Carrez du 3eme lot  object \n",
      " 30  4eme lot                    float64\n",
      " 31  Surface Carrez du 4eme lot  object \n",
      " 32  5eme lot                    object \n",
      " 33  Surface Carrez du 5eme lot  object \n",
      " 34  Nombre de lots              int64  \n",
      " 35  Code type local             float64\n",
      " 36  Type local                  object \n",
      " 37  Identifiant local           float64\n",
      " 38  Surface reelle bati         float64\n",
      " 39  Nombre pieces principales   float64\n",
      " 40  Nature culture              object \n",
      " 41  Nature culture speciale     object \n",
      " 42  Surface terrain             float64\n",
      "dtypes: float64(16), int64(4), object(23)\n",
      "memory usage: 1.2+ GB\n"
     ]
    }
   ],
   "source": [
    "df_2023 = pd.read_csv('https://www.data.gouv.fr/fr/datasets/r/dd516f7a-91bb-4cad-a63c-4b55cd457f4c',\n",
    "                 sep='|',                # Séparateur |\n",
    "                 encoding='latin-1',     # Encodage pour les caractères français\n",
    "                 compression='zip',      # Spécifie que c'est un fichier zip\n",
    "                 low_memory=False)       # Pour éviter les warnings de memory\n",
    "\n",
    "df_2023.info()"
   ]
  },
  {
   "cell_type": "code",
   "execution_count": 8,
   "metadata": {},
   "outputs": [
    {
     "name": "stdout",
     "output_type": "stream",
     "text": [
      "<class 'pandas.core.frame.DataFrame'>\n",
      "Index: 44247 entries, 0 to 44246\n",
      "Data columns (total 43 columns):\n",
      " #   Column                      Non-Null Count  Dtype  \n",
      "---  ------                      --------------  -----  \n",
      " 0   Identifiant_de_document     0 non-null      float64\n",
      " 1   Reference_document          0 non-null      float64\n",
      " 2   1_Articles_CGI              0 non-null      float64\n",
      " 3   2_Articles_CGI              0 non-null      float64\n",
      " 4   3_Articles_CGI              0 non-null      float64\n",
      " 5   4_Articles_CGI              0 non-null      float64\n",
      " 6   5_Articles_CGI              0 non-null      float64\n",
      " 7   No_disposition              44247 non-null  int64  \n",
      " 8   Date_mutation               44247 non-null  object \n",
      " 9   Nature_mutation             44247 non-null  object \n",
      " 10  Valeur_fonciere             44008 non-null  object \n",
      " 11  No_voie                     20701 non-null  float64\n",
      " 12  B/T/Q                       1171 non-null   object \n",
      " 13  Type_de_voie                20086 non-null  object \n",
      " 14  Code_voie                   43951 non-null  object \n",
      " 15  Voie                        43951 non-null  object \n",
      " 16  Code_postal                 43951 non-null  float64\n",
      " 17  Commune                     44247 non-null  object \n",
      " 18  Code_departement            44247 non-null  object \n",
      " 19  Code_commune                44247 non-null  int64  \n",
      " 20  Prefixe_de_section          1738 non-null   float64\n",
      " 21  Section                     44247 non-null  object \n",
      " 22  No_plan                     44247 non-null  int64  \n",
      " 23  No_Volume                   91 non-null     object \n",
      " 24  1er_lot                     11204 non-null  object \n",
      " 25  Surface_Carrez_du_1er_lot   2662 non-null   object \n",
      " 26  2eme_lot                    3165 non-null   object \n",
      " 27  Surface_Carrez_du_2eme_lot  923 non-null    object \n",
      " 28  3eme_lot                    791 non-null    object \n",
      " 29  Surface_Carrez_du_3eme_lot  134 non-null    object \n",
      " 30  4eme_lot                    267 non-null    float64\n",
      " 31  Surface_Carrez_du_4eme_lot  50 non-null     object \n",
      " 32  5eme_lot                    69 non-null     object \n",
      " 33  Surface_Carrez_du_5eme_lot  9 non-null      object \n",
      " 34  Nombre_de_lots              44247 non-null  int64  \n",
      " 35  Code_type_local             20632 non-null  float64\n",
      " 36  Type_local                  20632 non-null  object \n",
      " 37  Identifiant_local           0 non-null      float64\n",
      " 38  Surface_reelle_bati         20572 non-null  float64\n",
      " 39  Nombre_pieces_principales   20572 non-null  float64\n",
      " 40  Nature_culture              32687 non-null  object \n",
      " 41  Nature_culture_speciale     836 non-null    object \n",
      " 42  Surface_terrain             32687 non-null  float64\n",
      "dtypes: float64(16), int64(4), object(23)\n",
      "memory usage: 14.9+ MB\n"
     ]
    }
   ],
   "source": [
    "df_2023.columns = df_2023.columns.str.replace(' ', '_')\n",
    "df_2023 = df_2023[df_2023['Code_departement'] == '01']\n",
    "# df_2023 = df_2023.drop(['Reference_document', '1_Articles_CGI', '2_Articles_CGI', '3_Articles_CGI', '4_Articles_CGI', '5_Articles_CGI', 'No_disposition','B/T/Q', 'Nature_culture_speciale', \n",
    "#                        'No_Volume', '1er_lot', '2eme_lot', '3eme_lot', '4eme_lot', '5eme_lot' , 'Prefixe_de_section', 'Identifiant_local'], axis=1)\n",
    "df_2023.info()"
   ]
  },
  {
   "cell_type": "markdown",
   "metadata": {
    "id": "5vRqysdTc2kU"
   },
   "source": [
    "## Données 2022 (Année complète)"
   ]
  },
  {
   "cell_type": "code",
   "execution_count": 9,
   "metadata": {
    "colab": {
     "base_uri": "https://localhost:8080/"
    },
    "executionInfo": {
     "elapsed": 40594,
     "status": "ok",
     "timestamp": 1739213967879,
     "user": {
      "displayName": "Aurélie GABU",
      "userId": "10997725835620303151"
     },
     "user_tz": -60
    },
    "id": "5y5Gk5aCc8WJ",
    "outputId": "59914ce9-dbf4-4047-8b45-a3b4dc48a5e6"
   },
   "outputs": [
    {
     "name": "stdout",
     "output_type": "stream",
     "text": [
      "<class 'pandas.core.frame.DataFrame'>\n",
      "RangeIndex: 4667090 entries, 0 to 4667089\n",
      "Data columns (total 43 columns):\n",
      " #   Column                      Dtype  \n",
      "---  ------                      -----  \n",
      " 0   Identifiant de document     float64\n",
      " 1   Reference document          float64\n",
      " 2   1 Articles CGI              float64\n",
      " 3   2 Articles CGI              float64\n",
      " 4   3 Articles CGI              float64\n",
      " 5   4 Articles CGI              float64\n",
      " 6   5 Articles CGI              float64\n",
      " 7   No disposition              int64  \n",
      " 8   Date mutation               object \n",
      " 9   Nature mutation             object \n",
      " 10  Valeur fonciere             object \n",
      " 11  No voie                     float64\n",
      " 12  B/T/Q                       object \n",
      " 13  Type de voie                object \n",
      " 14  Code voie                   object \n",
      " 15  Voie                        object \n",
      " 16  Code postal                 float64\n",
      " 17  Commune                     object \n",
      " 18  Code departement            object \n",
      " 19  Code commune                int64  \n",
      " 20  Prefixe de section          float64\n",
      " 21  Section                     object \n",
      " 22  No plan                     int64  \n",
      " 23  No Volume                   object \n",
      " 24  1er lot                     object \n",
      " 25  Surface Carrez du 1er lot   object \n",
      " 26  2eme lot                    object \n",
      " 27  Surface Carrez du 2eme lot  object \n",
      " 28  3eme lot                    object \n",
      " 29  Surface Carrez du 3eme lot  object \n",
      " 30  4eme lot                    float64\n",
      " 31  Surface Carrez du 4eme lot  object \n",
      " 32  5eme lot                    float64\n",
      " 33  Surface Carrez du 5eme lot  object \n",
      " 34  Nombre de lots              int64  \n",
      " 35  Code type local             float64\n",
      " 36  Type local                  object \n",
      " 37  Identifiant local           float64\n",
      " 38  Surface reelle bati         float64\n",
      " 39  Nombre pieces principales   float64\n",
      " 40  Nature culture              object \n",
      " 41  Nature culture speciale     object \n",
      " 42  Surface terrain             float64\n",
      "dtypes: float64(17), int64(4), object(22)\n",
      "memory usage: 1.5+ GB\n"
     ]
    }
   ],
   "source": [
    "df_2022 = pd.read_csv('https://www.data.gouv.fr/fr/datasets/r/91fd9f09-fe6f-4ab2-9803-84a626e1faa6',\n",
    "                 sep='|',                # Séparateur |\n",
    "                 encoding='latin-1',     # Encodage pour les caractères français\n",
    "                 compression='zip',      # Spécifie que c'est un fichier zip\n",
    "                 low_memory=False)       # Pour éviter les warnings de memory\n",
    "\n",
    "df_2022.info()"
   ]
  },
  {
   "cell_type": "code",
   "execution_count": 10,
   "metadata": {},
   "outputs": [
    {
     "name": "stdout",
     "output_type": "stream",
     "text": [
      "<class 'pandas.core.frame.DataFrame'>\n",
      "Index: 51150 entries, 0 to 51149\n",
      "Data columns (total 43 columns):\n",
      " #   Column                      Non-Null Count  Dtype  \n",
      "---  ------                      --------------  -----  \n",
      " 0   Identifiant_de_document     0 non-null      float64\n",
      " 1   Reference_document          0 non-null      float64\n",
      " 2   1_Articles_CGI              0 non-null      float64\n",
      " 3   2_Articles_CGI              0 non-null      float64\n",
      " 4   3_Articles_CGI              0 non-null      float64\n",
      " 5   4_Articles_CGI              0 non-null      float64\n",
      " 6   5_Articles_CGI              0 non-null      float64\n",
      " 7   No_disposition              51150 non-null  int64  \n",
      " 8   Date_mutation               51150 non-null  object \n",
      " 9   Nature_mutation             51150 non-null  object \n",
      " 10  Valeur_fonciere             50963 non-null  object \n",
      " 11  No_voie                     25595 non-null  float64\n",
      " 12  B/T/Q                       1607 non-null   object \n",
      " 13  Type_de_voie                24427 non-null  object \n",
      " 14  Code_voie                   50892 non-null  object \n",
      " 15  Voie                        50892 non-null  object \n",
      " 16  Code_postal                 50892 non-null  float64\n",
      " 17  Commune                     51150 non-null  object \n",
      " 18  Code_departement            51150 non-null  object \n",
      " 19  Code_commune                51150 non-null  int64  \n",
      " 20  Prefixe_de_section          1769 non-null   float64\n",
      " 21  Section                     51150 non-null  object \n",
      " 22  No_plan                     51150 non-null  int64  \n",
      " 23  No_Volume                   254 non-null    object \n",
      " 24  1er_lot                     13214 non-null  object \n",
      " 25  Surface_Carrez_du_1er_lot   3543 non-null   object \n",
      " 26  2eme_lot                    3931 non-null   object \n",
      " 27  Surface_Carrez_du_2eme_lot  1427 non-null   object \n",
      " 28  3eme_lot                    936 non-null    object \n",
      " 29  Surface_Carrez_du_3eme_lot  205 non-null    object \n",
      " 30  4eme_lot                    299 non-null    float64\n",
      " 31  Surface_Carrez_du_4eme_lot  48 non-null     object \n",
      " 32  5eme_lot                    92 non-null     float64\n",
      " 33  Surface_Carrez_du_5eme_lot  15 non-null     object \n",
      " 34  Nombre_de_lots              51150 non-null  int64  \n",
      " 35  Code_type_local             26089 non-null  float64\n",
      " 36  Type_local                  26089 non-null  object \n",
      " 37  Identifiant_local           0 non-null      float64\n",
      " 38  Surface_reelle_bati         26044 non-null  float64\n",
      " 39  Nombre_pieces_principales   26044 non-null  float64\n",
      " 40  Nature_culture              37364 non-null  object \n",
      " 41  Nature_culture_speciale     875 non-null    object \n",
      " 42  Surface_terrain             37364 non-null  float64\n",
      "dtypes: float64(17), int64(4), object(22)\n",
      "memory usage: 17.2+ MB\n"
     ]
    }
   ],
   "source": [
    "df_2022.columns = df_2022.columns.str.replace(' ', '_')\n",
    "df_2022 = df_2022[df_2022['Code_departement'] == '01']\n",
    "# df_2022 = df_2022.drop(['Reference_document', '1_Articles_CGI', '2_Articles_CGI', '3_Articles_CGI', '4_Articles_CGI', '5_Articles_CGI', 'No_disposition','B/T/Q', 'Nature_culture_speciale', \n",
    "#                        'No_Volume', '1er_lot', '2eme_lot', '3eme_lot', '4eme_lot', '5eme_lot' , 'Prefixe_de_section', 'Identifiant_local'], axis=1)\n",
    "df_2022.info()"
   ]
  },
  {
   "cell_type": "markdown",
   "metadata": {},
   "source": [
    "## Ajout de la colonne \"Année\" dans chaque table, puis fusion"
   ]
  },
  {
   "cell_type": "code",
   "execution_count": 13,
   "metadata": {},
   "outputs": [
    {
     "name": "stdout",
     "output_type": "stream",
     "text": [
      "<class 'pandas.core.frame.DataFrame'>\n",
      "RangeIndex: 113966 entries, 0 to 113965\n",
      "Data columns (total 44 columns):\n",
      " #   Column                      Non-Null Count   Dtype  \n",
      "---  ------                      --------------   -----  \n",
      " 0   Identifiant_de_document     0 non-null       float64\n",
      " 1   Reference_document          0 non-null       float64\n",
      " 2   1_Articles_CGI              0 non-null       float64\n",
      " 3   2_Articles_CGI              0 non-null       float64\n",
      " 4   3_Articles_CGI              0 non-null       float64\n",
      " 5   4_Articles_CGI              0 non-null       float64\n",
      " 6   5_Articles_CGI              0 non-null       float64\n",
      " 7   No_disposition              113966 non-null  int64  \n",
      " 8   Date_mutation               113966 non-null  object \n",
      " 9   Nature_mutation             113966 non-null  object \n",
      " 10  Valeur_fonciere             113343 non-null  object \n",
      " 11  No_voie                     54555 non-null   float64\n",
      " 12  B/T/Q                       3265 non-null    object \n",
      " 13  Type_de_voie                52346 non-null   object \n",
      " 14  Code_voie                   113337 non-null  object \n",
      " 15  Voie                        113337 non-null  object \n",
      " 16  Code_postal                 113337 non-null  float64\n",
      " 17  Commune                     113966 non-null  object \n",
      " 18  Code_departement            113966 non-null  object \n",
      " 19  Code_commune                113966 non-null  int64  \n",
      " 20  Prefixe_de_section          4434 non-null    float64\n",
      " 21  Section                     113966 non-null  object \n",
      " 22  No_plan                     113966 non-null  int64  \n",
      " 23  No_Volume                   401 non-null     object \n",
      " 24  1er_lot                     28635 non-null   object \n",
      " 25  Surface_Carrez_du_1er_lot   7247 non-null    object \n",
      " 26  2eme_lot                    8390 non-null    object \n",
      " 27  Surface_Carrez_du_2eme_lot  2833 non-null    object \n",
      " 28  3eme_lot                    2041 non-null    object \n",
      " 29  Surface_Carrez_du_3eme_lot  410 non-null     object \n",
      " 30  4eme_lot                    661 non-null     object \n",
      " 31  Surface_Carrez_du_4eme_lot  116 non-null     object \n",
      " 32  5eme_lot                    184 non-null     object \n",
      " 33  Surface_Carrez_du_5eme_lot  24 non-null      object \n",
      " 34  Nombre_de_lots              113966 non-null  int64  \n",
      " 35  Code_type_local             54776 non-null   float64\n",
      " 36  Type_local                  54776 non-null   object \n",
      " 37  Identifiant_local           0 non-null       float64\n",
      " 38  Surface_reelle_bati         54620 non-null   float64\n",
      " 39  Nombre_pieces_principales   54620 non-null   float64\n",
      " 40  Nature_culture              84251 non-null   object \n",
      " 41  Nature_culture_speciale     2137 non-null    object \n",
      " 42  Surface_terrain             84251 non-null   float64\n",
      " 43  Annee                       113966 non-null  int64  \n",
      "dtypes: float64(15), int64(5), object(24)\n",
      "memory usage: 38.3+ MB\n"
     ]
    }
   ],
   "source": [
    "# ajout de la colonne \"Annee\" dans chaque table\n",
    "df_2022[\"Annee\"] = 2022\n",
    "df_2023[\"Annee\"] = 2023\n",
    "df_2024[\"Annee\"] = 2024\n",
    "\n",
    "# fusion des tables\n",
    "df_concat = pd.concat([df_2022, df_2023, df_2024], ignore_index=True)\n",
    "df_concat.info()"
   ]
  },
  {
   "cell_type": "code",
   "execution_count": 14,
   "metadata": {},
   "outputs": [
    {
     "data": {
      "text/plain": [
       "Identifiant_de_document       113966\n",
       "Reference_document            113966\n",
       "1_Articles_CGI                113966\n",
       "2_Articles_CGI                113966\n",
       "3_Articles_CGI                113966\n",
       "4_Articles_CGI                113966\n",
       "5_Articles_CGI                113966\n",
       "No_disposition                     0\n",
       "Date_mutation                      0\n",
       "Nature_mutation                    0\n",
       "Valeur_fonciere                  623\n",
       "No_voie                        59411\n",
       "B/T/Q                         110701\n",
       "Type_de_voie                   61620\n",
       "Code_voie                        629\n",
       "Voie                             629\n",
       "Code_postal                      629\n",
       "Commune                            0\n",
       "Code_departement                   0\n",
       "Code_commune                       0\n",
       "Prefixe_de_section            109532\n",
       "Section                            0\n",
       "No_plan                            0\n",
       "No_Volume                     113565\n",
       "1er_lot                        85331\n",
       "Surface_Carrez_du_1er_lot     106719\n",
       "2eme_lot                      105576\n",
       "Surface_Carrez_du_2eme_lot    111133\n",
       "3eme_lot                      111925\n",
       "Surface_Carrez_du_3eme_lot    113556\n",
       "4eme_lot                      113305\n",
       "Surface_Carrez_du_4eme_lot    113850\n",
       "5eme_lot                      113782\n",
       "Surface_Carrez_du_5eme_lot    113942\n",
       "Nombre_de_lots                     0\n",
       "Code_type_local                59190\n",
       "Type_local                     59190\n",
       "Identifiant_local             113966\n",
       "Surface_reelle_bati            59346\n",
       "Nombre_pieces_principales      59346\n",
       "Nature_culture                 29715\n",
       "Nature_culture_speciale       111829\n",
       "Surface_terrain                29715\n",
       "Annee                              0\n",
       "dtype: int64"
      ]
     },
     "execution_count": 14,
     "metadata": {},
     "output_type": "execute_result"
    }
   ],
   "source": [
    "df_concat.isnull().sum()"
   ]
  },
  {
   "cell_type": "markdown",
   "metadata": {},
   "source": [
    "# 2. **Nettoyage des données**"
   ]
  },
  {
   "cell_type": "code",
   "execution_count": 15,
   "metadata": {},
   "outputs": [
    {
     "data": {
      "text/plain": [
       "Index(['Identifiant_de_document', 'Reference_document', '1_Articles_CGI',\n",
       "       '2_Articles_CGI', '3_Articles_CGI', '4_Articles_CGI', '5_Articles_CGI',\n",
       "       'No_disposition', 'Date_mutation', 'Nature_mutation', 'Valeur_fonciere',\n",
       "       'No_voie', 'B/T/Q', 'Type_de_voie', 'Code_voie', 'Voie', 'Code_postal',\n",
       "       'Commune', 'Code_departement', 'Code_commune', 'Prefixe_de_section',\n",
       "       'Section', 'No_plan', 'No_Volume', '1er_lot',\n",
       "       'Surface_Carrez_du_1er_lot', '2eme_lot', 'Surface_Carrez_du_2eme_lot',\n",
       "       '3eme_lot', 'Surface_Carrez_du_3eme_lot', '4eme_lot',\n",
       "       'Surface_Carrez_du_4eme_lot', '5eme_lot', 'Surface_Carrez_du_5eme_lot',\n",
       "       'Nombre_de_lots', 'Code_type_local', 'Type_local', 'Identifiant_local',\n",
       "       'Surface_reelle_bati', 'Nombre_pieces_principales', 'Nature_culture',\n",
       "       'Nature_culture_speciale', 'Surface_terrain', 'Annee'],\n",
       "      dtype='object')"
      ]
     },
     "execution_count": 15,
     "metadata": {},
     "output_type": "execute_result"
    }
   ],
   "source": [
    "df_concat.columns"
   ]
  },
  {
   "cell_type": "code",
   "execution_count": 16,
   "metadata": {},
   "outputs": [],
   "source": [
    "df_concat = df_concat.drop(['Reference_document', '1_Articles_CGI', '2_Articles_CGI', '3_Articles_CGI', '4_Articles_CGI', '5_Articles_CGI', 'No_disposition','B/T/Q', \n",
    "                            'Type_de_voie', 'Code_voie', 'Voie', 'Nature_culture_speciale', 'Code_departement', 'Code_commune', 'Prefixe_de_section',\n",
    "                            'Section', 'No_plan', 'No_Volume', 'No_Volume', '1er_lot', '2eme_lot', '3eme_lot', \n",
    "                            '4eme_lot', '5eme_lot' , 'Prefixe_de_section', 'Code_type_local','Identifiant_local'], axis=1)\n",
    "\n"
   ]
  },
  {
   "cell_type": "code",
   "execution_count": 17,
   "metadata": {},
   "outputs": [
    {
     "name": "stdout",
     "output_type": "stream",
     "text": [
      "<class 'pandas.core.frame.DataFrame'>\n",
      "RangeIndex: 113966 entries, 0 to 113965\n",
      "Data columns (total 19 columns):\n",
      " #   Column                      Non-Null Count   Dtype  \n",
      "---  ------                      --------------   -----  \n",
      " 0   Identifiant_de_document     0 non-null       float64\n",
      " 1   Date_mutation               113966 non-null  object \n",
      " 2   Nature_mutation             113966 non-null  object \n",
      " 3   Valeur_fonciere             113343 non-null  object \n",
      " 4   No_voie                     54555 non-null   float64\n",
      " 5   Code_postal                 113337 non-null  float64\n",
      " 6   Commune                     113966 non-null  object \n",
      " 7   Surface_Carrez_du_1er_lot   7247 non-null    object \n",
      " 8   Surface_Carrez_du_2eme_lot  2833 non-null    object \n",
      " 9   Surface_Carrez_du_3eme_lot  410 non-null     object \n",
      " 10  Surface_Carrez_du_4eme_lot  116 non-null     object \n",
      " 11  Surface_Carrez_du_5eme_lot  24 non-null      object \n",
      " 12  Nombre_de_lots              113966 non-null  int64  \n",
      " 13  Type_local                  54776 non-null   object \n",
      " 14  Surface_reelle_bati         54620 non-null   float64\n",
      " 15  Nombre_pieces_principales   54620 non-null   float64\n",
      " 16  Nature_culture              84251 non-null   object \n",
      " 17  Surface_terrain             84251 non-null   float64\n",
      " 18  Annee                       113966 non-null  int64  \n",
      "dtypes: float64(6), int64(2), object(11)\n",
      "memory usage: 16.5+ MB\n"
     ]
    }
   ],
   "source": [
    "df_concat.info()"
   ]
  },
  {
   "cell_type": "code",
   "execution_count": 12,
   "metadata": {},
   "outputs": [
    {
     "name": "stdout",
     "output_type": "stream",
     "text": [
      "<class 'pandas.core.frame.DataFrame'>\n",
      "RangeIndex: 107241 entries, 0 to 107240\n",
      "Data columns (total 45 columns):\n",
      " #   Column                      Non-Null Count   Dtype  \n",
      "---  ------                      --------------   -----  \n",
      " 0   index                       107241 non-null  int64  \n",
      " 1   Identifiant_de_document     0 non-null       float64\n",
      " 2   Reference_document          0 non-null       float64\n",
      " 3   1_Articles_CGI              0 non-null       float64\n",
      " 4   2_Articles_CGI              0 non-null       float64\n",
      " 5   3_Articles_CGI              0 non-null       float64\n",
      " 6   4_Articles_CGI              0 non-null       float64\n",
      " 7   5_Articles_CGI              0 non-null       float64\n",
      " 8   No_disposition              107241 non-null  int64  \n",
      " 9   Date_mutation               107241 non-null  object \n",
      " 10  Nature_mutation             107241 non-null  object \n",
      " 11  Valeur_fonciere             106631 non-null  object \n",
      " 12  No_voie                     48092 non-null   float64\n",
      " 13  B/T/Q                       2958 non-null    object \n",
      " 14  Type_de_voie                46456 non-null   object \n",
      " 15  Code_voie                   106612 non-null  object \n",
      " 16  Voie                        106612 non-null  object \n",
      " 17  Code_postal                 106612 non-null  float64\n",
      " 18  Commune                     107241 non-null  object \n",
      " 19  Code_departement            107241 non-null  object \n",
      " 20  Code_commune                107241 non-null  int64  \n",
      " 21  Prefixe_de_section          4228 non-null    float64\n",
      " 22  Section                     107241 non-null  object \n",
      " 23  No_plan                     107241 non-null  int64  \n",
      " 24  No_Volume                   401 non-null     object \n",
      " 25  1er_lot                     27320 non-null   object \n",
      " 26  Surface_Carrez_du_1er_lot   6836 non-null    object \n",
      " 27  2eme_lot                    7314 non-null    object \n",
      " 28  Surface_Carrez_du_2eme_lot  2531 non-null    object \n",
      " 29  3eme_lot                    1447 non-null    object \n",
      " 30  Surface_Carrez_du_3eme_lot  290 non-null     object \n",
      " 31  4eme_lot                    437 non-null     object \n",
      " 32  Surface_Carrez_du_4eme_lot  71 non-null      object \n",
      " 33  5eme_lot                    133 non-null     object \n",
      " 34  Surface_Carrez_du_5eme_lot  17 non-null      object \n",
      " 35  Nombre_de_lots              107241 non-null  int64  \n",
      " 36  Code_type_local             48295 non-null   float64\n",
      " 37  Type_local                  48295 non-null   object \n",
      " 38  Identifiant_local           0 non-null       float64\n",
      " 39  Surface_reelle_bati         48155 non-null   float64\n",
      " 40  Nombre_pieces_principales   48155 non-null   float64\n",
      " 41  Nature_culture              78955 non-null   object \n",
      " 42  Nature_culture_speciale     2064 non-null    object \n",
      " 43  Surface_terrain             78955 non-null   float64\n",
      " 44  Annee                       107241 non-null  int64  \n",
      "dtypes: float64(15), int64(6), object(24)\n",
      "memory usage: 36.8+ MB\n"
     ]
    }
   ],
   "source": [
    "# vérification des doublons\n",
    "\n",
    "df_immo = df_concat.drop_duplicates().reset_index()\n",
    "df_immo.info()"
   ]
  },
  {
   "cell_type": "code",
   "execution_count": 89,
   "metadata": {},
   "outputs": [
    {
     "name": "stdout",
     "output_type": "stream",
     "text": [
      "10033140\n",
      "8815417\n"
     ]
    }
   ],
   "source": [
    "print(len(df_concat))\n",
    "print(len(df_immo))"
   ]
  },
  {
   "cell_type": "code",
   "execution_count": 90,
   "metadata": {},
   "outputs": [],
   "source": [
    "# modification des types de données\n",
    "df_immo['Date_mutation'] = pd.to_datetime(df_immo['Date_mutation'], format=\"%d/%m/%Y\")\n",
    "df_immo['Valeur_fonciere'] = df_immo['Valeur_fonciere'].str.replace(',', '.').astype('float')\n",
    "df_immo['Surface_Carrez_du_1er_lot'] = df_immo['Surface_Carrez_du_1er_lot'].str.replace(',', '.').astype('float')\n",
    "df_immo['Surface_Carrez_du_2eme_lot'] = df_immo['Surface_Carrez_du_2eme_lot'].str.replace(',', '.').astype('float')\n",
    "df_immo['Surface_Carrez_du_3eme_lot'] = df_immo['Surface_Carrez_du_3eme_lot'].str.replace(',', '.').astype('float')\n",
    "df_immo['Surface_Carrez_du_4eme_lot'] = df_immo['Surface_Carrez_du_4eme_lot'].str.replace(',', '.').astype('float')\n",
    "df_immo['Surface_Carrez_du_5eme_lot'] = df_immo['Surface_Carrez_du_5eme_lot'].str.replace(',', '.').astype('float')"
   ]
  },
  {
   "cell_type": "code",
   "execution_count": 91,
   "metadata": {},
   "outputs": [
    {
     "data": {
      "text/plain": [
       "index                               0\n",
       "Identifiant_de_document       8815417\n",
       "Date_mutation                       0\n",
       "Nature_mutation                     0\n",
       "Valeur_fonciere                 66500\n",
       "No_voie                       3550011\n",
       "Type_de_voie                  3757659\n",
       "Code_voie                       30580\n",
       "Voie                            31034\n",
       "Code_postal                     31111\n",
       "Commune                             0\n",
       "Code_departement                    0\n",
       "Code_commune                        0\n",
       "Section                           326\n",
       "No_plan                             0\n",
       "Surface_Carrez_du_1er_lot     7969015\n",
       "Surface_Carrez_du_2eme_lot    8541085\n",
       "Surface_Carrez_du_3eme_lot    8789854\n",
       "Surface_Carrez_du_4eme_lot    8809506\n",
       "Surface_Carrez_du_5eme_lot    8813369\n",
       "Nombre_de_lots                      0\n",
       "Code_type_local               3866157\n",
       "Type_local                    3866157\n",
       "Surface_reelle_bati           3871733\n",
       "Nombre_pieces_principales     3871733\n",
       "Nature_culture                2599295\n",
       "Surface_terrain               2599295\n",
       "Annee                               0\n",
       "dtype: int64"
      ]
     },
     "execution_count": 91,
     "metadata": {},
     "output_type": "execute_result"
    }
   ],
   "source": [
    "# gestion des valeurs manquantes\n",
    "df_immo.isnull().sum()"
   ]
  },
  {
   "cell_type": "code",
   "execution_count": 92,
   "metadata": {},
   "outputs": [],
   "source": [
    "df_immo = df_immo.drop(columns=['Surface_Carrez_du_1er_lot', 'Surface_Carrez_du_2eme_lot', 'Surface_Carrez_du_3eme_lot', 'Surface_Carrez_du_4eme_lot', 'Surface_Carrez_du_5eme_lot'], axis=1)"
   ]
  },
  {
   "cell_type": "code",
   "execution_count": 93,
   "metadata": {},
   "outputs": [
    {
     "data": {
      "text/plain": [
       "(8815417, 23)"
      ]
     },
     "execution_count": 93,
     "metadata": {},
     "output_type": "execute_result"
    }
   ],
   "source": [
    "df_immo.shape"
   ]
  },
  {
   "cell_type": "code",
   "execution_count": 94,
   "metadata": {},
   "outputs": [],
   "source": [
    "import warnings\n",
    "warnings.filterwarnings(\"ignore\")\n",
    "\n",
    "df_immo.dropna(inplace=True)"
   ]
  },
  {
   "cell_type": "code",
   "execution_count": 95,
   "metadata": {},
   "outputs": [
    {
     "data": {
      "text/plain": [
       "(0, 23)"
      ]
     },
     "execution_count": 95,
     "metadata": {},
     "output_type": "execute_result"
    }
   ],
   "source": [
    "df_immo.shape"
   ]
  },
  {
   "cell_type": "code",
   "execution_count": 96,
   "metadata": {},
   "outputs": [
    {
     "data": {
      "text/plain": [
       "Series([], Name: count, dtype: int64)"
      ]
     },
     "execution_count": 96,
     "metadata": {},
     "output_type": "execute_result"
    }
   ],
   "source": [
    "# harmonisation des colonnes\n",
    "df_immo['Type_local'].value_counts()"
   ]
  },
  {
   "cell_type": "code",
   "execution_count": 97,
   "metadata": {},
   "outputs": [],
   "source": [
    "df_immo['Type_local'] = df_immo['Type_local'].str.replace('Ã©', 'é')\n",
    "df_immo['Type_local'] = df_immo['Type_local'].str.replace('Local industriel. commercial ou assimilé', 'Local commercial')"
   ]
  },
  {
   "cell_type": "code",
   "execution_count": 98,
   "metadata": {},
   "outputs": [
    {
     "data": {
      "text/plain": [
       "array([], dtype=object)"
      ]
     },
     "execution_count": 98,
     "metadata": {},
     "output_type": "execute_result"
    }
   ],
   "source": [
    "df_immo['Type_local'].unique()"
   ]
  },
  {
   "cell_type": "code",
   "execution_count": 99,
   "metadata": {},
   "outputs": [],
   "source": [
    "df_immo['Nature_mutation'] = df_immo['Nature_mutation'].replace({'Vente terrain Ã\\xa0 bÃ¢tir': 'Vente terrain a batir', \"Vente en l'Ã©tat futur d'achÃ¨vement\": \"Vente en l'etat futur d'achevement\"})"
   ]
  },
  {
   "cell_type": "code",
   "execution_count": 100,
   "metadata": {},
   "outputs": [
    {
     "data": {
      "text/plain": [
       "Series([], Name: Prix_m2, dtype: float64)"
      ]
     },
     "execution_count": 100,
     "metadata": {},
     "output_type": "execute_result"
    }
   ],
   "source": [
    "# nouvelles variables pouvant être utiles à l'analyse\n",
    "df_immo['Prix_m2'] = round(df_immo['Valeur_fonciere'] / df_immo['Surface_reelle_bati'], 3)\n",
    "df_immo['Prix_m2']"
   ]
  },
  {
   "cell_type": "code",
   "execution_count": 101,
   "metadata": {},
   "outputs": [
    {
     "data": {
      "text/plain": [
       "Series([], Name: count, dtype: int64)"
      ]
     },
     "execution_count": 101,
     "metadata": {},
     "output_type": "execute_result"
    }
   ],
   "source": [
    "df_immo[\"Nature_mutation\"].value_counts()"
   ]
  },
  {
   "cell_type": "code",
   "execution_count": 102,
   "metadata": {},
   "outputs": [],
   "source": [
    "# catégorie des natures de mutation\n",
    "def categoriser_mutation(nature):\n",
    "    if nature in [\"Vente\", \"Vente terrain a batir\", \"Vente en l’etat futur d’achevement\"]:\n",
    "        return \"Vente classique\"\n",
    "    elif nature in [\"Adjudication\", \"Expropriation\"]:\n",
    "        return \"Mutation forcée\"\n",
    "    elif nature in [\"Échange\"]:\n",
    "        return \"Mutation atypique\"\n",
    "    else:\n",
    "        return \"Autre\"\n",
    "\n",
    "df_immo[\"Categorie mutation\"] = df_immo[\"Nature_mutation\"].apply(categoriser_mutation)"
   ]
  },
  {
   "cell_type": "markdown",
   "metadata": {},
   "source": [
    "# 3. Gestion des valeurs extrêmes (valeurs foncieres, prix, surfaces)"
   ]
  },
  {
   "cell_type": "code",
   "execution_count": 103,
   "metadata": {},
   "outputs": [
    {
     "data": {
      "image/png": "[encoded data removed]",
      "text/plain": [
       "<Figure size 640x480 with 1 Axes>"
      ]
     },
     "metadata": {},
     "output_type": "display_data"
    }
   ],
   "source": [
    "import seaborn as sns\n",
    "import matplotlib.pyplot as plt\n",
    "\n",
    "sns.boxplot(x=df_immo['Prix_m2'])\n",
    "plt.title(\"Boxplot des prix au m2\")\n",
    "plt.xlabel(\"Prix au m2\")\n",
    "plt.show();"
   ]
  },
  {
   "cell_type": "code",
   "execution_count": 104,
   "metadata": {},
   "outputs": [],
   "source": [
    "# remplacer les valeurs aberrantes\n",
    "Q1 = df_immo['Prix_m2'].quantile(0.25)\n",
    "Q3 = df_immo['Prix_m2'].quantile(0.75)\n",
    "IQR = Q3 - Q1\n",
    "\n",
    "lower_bound = Q1 - 1.5 * IQR\n",
    "upper_bound = Q3 + 1.5 * IQR\n",
    "\n",
    "df_immo.loc[df_immo['Prix_m2'] > upper_bound, 'Prix_m2'] = df_immo['Prix_m2'].median()\n",
    "df_immo.loc[df_immo['Prix_m2'] < lower_bound, 'Prix_m2'] = df_immo['Prix_m2'].median()"
   ]
  },
  {
   "cell_type": "code",
   "execution_count": 105,
   "metadata": {},
   "outputs": [
    {
     "data": {
      "image/png": "[encoded data removed]",
      "text/plain": [
       "<Figure size 640x480 with 1 Axes>"
      ]
     },
     "metadata": {},
     "output_type": "display_data"
    }
   ],
   "source": [
    "sns.boxplot(x=df_immo['Valeur_fonciere'])\n",
    "plt.title(\"Boxplot valeur foncière\")\n",
    "plt.xlabel(\"Valeur foncière\")\n",
    "plt.show();"
   ]
  },
  {
   "cell_type": "code",
   "execution_count": 106,
   "metadata": {},
   "outputs": [],
   "source": [
    "# remplacer les valeurs aberrantes\n",
    "Q1 = df_immo['Valeur_fonciere'].quantile(0.25)\n",
    "Q3 = df_immo['Valeur_fonciere'].quantile(0.75)\n",
    "IQR = Q3 - Q1\n",
    "\n",
    "lower_bound = Q1 - 1.5 * IQR\n",
    "upper_bound = Q3 + 1.5 * IQR\n",
    "\n",
    "df_immo.loc[df_immo['Valeur_fonciere'] > upper_bound, 'Valeur_fonciere'] = df_immo['Valeur_fonciere'].median()\n",
    "df_immo.loc[df_immo['Valeur_fonciere'] < lower_bound, 'Valeur_fonciere'] = df_immo['Valeur_fonciere'].median()"
   ]
  },
  {
   "cell_type": "code",
   "execution_count": 107,
   "metadata": {},
   "outputs": [
    {
     "data": {
      "image/png": "[encoded data removed]",
      "text/plain": [
       "<Figure size 640x480 with 1 Axes>"
      ]
     },
     "metadata": {},
     "output_type": "display_data"
    }
   ],
   "source": [
    "sns.boxplot(x=df_immo['Surface_reelle_bati'])\n",
    "plt.title(\"Boxplot Surface reelle batie\")\n",
    "plt.xlabel(\"Surface reelle batie\")\n",
    "plt.show();"
   ]
  },
  {
   "cell_type": "code",
   "execution_count": 108,
   "metadata": {},
   "outputs": [],
   "source": [
    "# remplacer les valeurs aberrantes\n",
    "Q1 = df_immo['Surface_reelle_bati'].quantile(0.25)\n",
    "Q3 = df_immo['Surface_reelle_bati'].quantile(0.75)\n",
    "IQR = Q3 - Q1\n",
    "\n",
    "lower_bound = Q1 - 1.5 * IQR\n",
    "upper_bound = Q3 + 1.5 * IQR\n",
    "\n",
    "df_immo.loc[df_immo['Surface_reelle_bati'] > upper_bound, 'Surface_reelle_bati'] = df_immo['Surface_reelle_bati'].median()\n",
    "df_immo.loc[df_immo['Surface_reelle_bati'] < lower_bound, 'Surface_reelle_bati'] = df_immo['Surface_reelle_bati'].median()"
   ]
  },
  {
   "cell_type": "code",
   "execution_count": 109,
   "metadata": {},
   "outputs": [
    {
     "data": {
      "image/png": "[encoded data removed]",
      "text/plain": [
       "<Figure size 640x480 with 1 Axes>"
      ]
     },
     "metadata": {},
     "output_type": "display_data"
    }
   ],
   "source": [
    "sns.boxplot(x=df_immo['Surface_terrain'])\n",
    "plt.title(\"Boxplot Surface terrain\")\n",
    "plt.xlabel(\"Surface terrain\")\n",
    "plt.show();"
   ]
  },
  {
   "cell_type": "code",
   "execution_count": 110,
   "metadata": {},
   "outputs": [],
   "source": [
    "# remplacer les valeurs aberrantes\n",
    "Q1 = df_immo['Surface_terrain'].quantile(0.25)\n",
    "Q3 = df_immo['Surface_terrain'].quantile(0.75)\n",
    "IQR = Q3 - Q1\n",
    "\n",
    "lower_bound = Q1 - 1.5 * IQR\n",
    "upper_bound = Q3 + 1.5 * IQR\n",
    "\n",
    "df_immo.loc[df_immo['Surface_terrain'] > upper_bound, 'Surface_terrain'] = df_immo['Surface_terrain'].median()\n",
    "df_immo.loc[df_immo['Surface_terrain'] < lower_bound, 'Surface_terrain'] = df_immo['Surface_terrain'].median()"
   ]
  },
  {
   "cell_type": "code",
   "execution_count": 111,
   "metadata": {},
   "outputs": [
    {
     "data": {
      "image/png": "[encoded data removed]",
      "text/plain": [
       "<Figure size 640x480 with 1 Axes>"
      ]
     },
     "metadata": {},
     "output_type": "display_data"
    }
   ],
   "source": [
    "sns.boxplot(x=df_immo['Surface_terrain'])\n",
    "plt.title(\"Boxplot Surface terrain\")\n",
    "plt.xlabel(\"Surface terrain\")\n",
    "plt.show();"
   ]
  },
  {
   "cell_type": "markdown",
   "metadata": {},
   "source": [
    "# 4. Description des données (visualisations)"
   ]
  },
  {
   "cell_type": "code",
   "execution_count": 112,
   "metadata": {},
   "outputs": [],
   "source": [
    "import numpy as np\n",
    "df_immo = df_immo[~np.isinf(df_immo['Prix_m2'])]"
   ]
  },
  {
   "cell_type": "code",
   "execution_count": 113,
   "metadata": {},
   "outputs": [
    {
     "data": {
      "text/html": [
       "<div>\n",
       "<style scoped>\n",
       "    .dataframe tbody tr th:only-of-type {\n",
       "        vertical-align: middle;\n",
       "    }\n",
       "\n",
       "    .dataframe tbody tr th {\n",
       "        vertical-align: top;\n",
       "    }\n",
       "\n",
       "    .dataframe thead th {\n",
       "        text-align: right;\n",
       "    }\n",
       "</style>\n",
       "<table border=\"1\" class=\"dataframe\">\n",
       "  <thead>\n",
       "    <tr style=\"text-align: right;\">\n",
       "      <th></th>\n",
       "      <th>index</th>\n",
       "      <th>Identifiant_de_document</th>\n",
       "      <th>Date_mutation</th>\n",
       "      <th>Valeur_fonciere</th>\n",
       "      <th>No_voie</th>\n",
       "      <th>Code_postal</th>\n",
       "      <th>Code_commune</th>\n",
       "      <th>No_plan</th>\n",
       "      <th>Nombre_de_lots</th>\n",
       "      <th>Code_type_local</th>\n",
       "      <th>Surface_reelle_bati</th>\n",
       "      <th>Nombre_pieces_principales</th>\n",
       "      <th>Surface_terrain</th>\n",
       "      <th>Annee</th>\n",
       "      <th>Prix_m2</th>\n",
       "    </tr>\n",
       "  </thead>\n",
       "  <tbody>\n",
       "    <tr>\n",
       "      <th>count</th>\n",
       "      <td>0.0</td>\n",
       "      <td>0.0</td>\n",
       "      <td>0</td>\n",
       "      <td>0.0</td>\n",
       "      <td>0.0</td>\n",
       "      <td>0.0</td>\n",
       "      <td>0.0</td>\n",
       "      <td>0.0</td>\n",
       "      <td>0.0</td>\n",
       "      <td>0.0</td>\n",
       "      <td>0.0</td>\n",
       "      <td>0.0</td>\n",
       "      <td>0.0</td>\n",
       "      <td>0.0</td>\n",
       "      <td>0.0</td>\n",
       "    </tr>\n",
       "    <tr>\n",
       "      <th>mean</th>\n",
       "      <td>NaN</td>\n",
       "      <td>NaN</td>\n",
       "      <td>NaT</td>\n",
       "      <td>NaN</td>\n",
       "      <td>NaN</td>\n",
       "      <td>NaN</td>\n",
       "      <td>NaN</td>\n",
       "      <td>NaN</td>\n",
       "      <td>NaN</td>\n",
       "      <td>NaN</td>\n",
       "      <td>NaN</td>\n",
       "      <td>NaN</td>\n",
       "      <td>NaN</td>\n",
       "      <td>NaN</td>\n",
       "      <td>NaN</td>\n",
       "    </tr>\n",
       "    <tr>\n",
       "      <th>min</th>\n",
       "      <td>NaN</td>\n",
       "      <td>NaN</td>\n",
       "      <td>NaT</td>\n",
       "      <td>NaN</td>\n",
       "      <td>NaN</td>\n",
       "      <td>NaN</td>\n",
       "      <td>NaN</td>\n",
       "      <td>NaN</td>\n",
       "      <td>NaN</td>\n",
       "      <td>NaN</td>\n",
       "      <td>NaN</td>\n",
       "      <td>NaN</td>\n",
       "      <td>NaN</td>\n",
       "      <td>NaN</td>\n",
       "      <td>NaN</td>\n",
       "    </tr>\n",
       "    <tr>\n",
       "      <th>25%</th>\n",
       "      <td>NaN</td>\n",
       "      <td>NaN</td>\n",
       "      <td>NaT</td>\n",
       "      <td>NaN</td>\n",
       "      <td>NaN</td>\n",
       "      <td>NaN</td>\n",
       "      <td>NaN</td>\n",
       "      <td>NaN</td>\n",
       "      <td>NaN</td>\n",
       "      <td>NaN</td>\n",
       "      <td>NaN</td>\n",
       "      <td>NaN</td>\n",
       "      <td>NaN</td>\n",
       "      <td>NaN</td>\n",
       "      <td>NaN</td>\n",
       "    </tr>\n",
       "    <tr>\n",
       "      <th>50%</th>\n",
       "      <td>NaN</td>\n",
       "      <td>NaN</td>\n",
       "      <td>NaT</td>\n",
       "      <td>NaN</td>\n",
       "      <td>NaN</td>\n",
       "      <td>NaN</td>\n",
       "      <td>NaN</td>\n",
       "      <td>NaN</td>\n",
       "      <td>NaN</td>\n",
       "      <td>NaN</td>\n",
       "      <td>NaN</td>\n",
       "      <td>NaN</td>\n",
       "      <td>NaN</td>\n",
       "      <td>NaN</td>\n",
       "      <td>NaN</td>\n",
       "    </tr>\n",
       "    <tr>\n",
       "      <th>75%</th>\n",
       "      <td>NaN</td>\n",
       "      <td>NaN</td>\n",
       "      <td>NaT</td>\n",
       "      <td>NaN</td>\n",
       "      <td>NaN</td>\n",
       "      <td>NaN</td>\n",
       "      <td>NaN</td>\n",
       "      <td>NaN</td>\n",
       "      <td>NaN</td>\n",
       "      <td>NaN</td>\n",
       "      <td>NaN</td>\n",
       "      <td>NaN</td>\n",
       "      <td>NaN</td>\n",
       "      <td>NaN</td>\n",
       "      <td>NaN</td>\n",
       "    </tr>\n",
       "    <tr>\n",
       "      <th>max</th>\n",
       "      <td>NaN</td>\n",
       "      <td>NaN</td>\n",
       "      <td>NaT</td>\n",
       "      <td>NaN</td>\n",
       "      <td>NaN</td>\n",
       "      <td>NaN</td>\n",
       "      <td>NaN</td>\n",
       "      <td>NaN</td>\n",
       "      <td>NaN</td>\n",
       "      <td>NaN</td>\n",
       "      <td>NaN</td>\n",
       "      <td>NaN</td>\n",
       "      <td>NaN</td>\n",
       "      <td>NaN</td>\n",
       "      <td>NaN</td>\n",
       "    </tr>\n",
       "    <tr>\n",
       "      <th>std</th>\n",
       "      <td>NaN</td>\n",
       "      <td>NaN</td>\n",
       "      <td>NaN</td>\n",
       "      <td>NaN</td>\n",
       "      <td>NaN</td>\n",
       "      <td>NaN</td>\n",
       "      <td>NaN</td>\n",
       "      <td>NaN</td>\n",
       "      <td>NaN</td>\n",
       "      <td>NaN</td>\n",
       "      <td>NaN</td>\n",
       "      <td>NaN</td>\n",
       "      <td>NaN</td>\n",
       "      <td>NaN</td>\n",
       "      <td>NaN</td>\n",
       "    </tr>\n",
       "  </tbody>\n",
       "</table>\n",
       "</div>"
      ],
      "text/plain": [
       "       index  Identifiant_de_document Date_mutation  Valeur_fonciere  No_voie  \\\n",
       "count    0.0                      0.0             0              0.0      0.0   \n",
       "mean     NaN                      NaN           NaT              NaN      NaN   \n",
       "min      NaN                      NaN           NaT              NaN      NaN   \n",
       "25%      NaN                      NaN           NaT              NaN      NaN   \n",
       "50%      NaN                      NaN           NaT              NaN      NaN   \n",
       "75%      NaN                      NaN           NaT              NaN      NaN   \n",
       "max      NaN                      NaN           NaT              NaN      NaN   \n",
       "std      NaN                      NaN           NaN              NaN      NaN   \n",
       "\n",
       "       Code_postal  Code_commune  No_plan  Nombre_de_lots  Code_type_local  \\\n",
       "count          0.0           0.0      0.0             0.0              0.0   \n",
       "mean           NaN           NaN      NaN             NaN              NaN   \n",
       "min            NaN           NaN      NaN             NaN              NaN   \n",
       "25%            NaN           NaN      NaN             NaN              NaN   \n",
       "50%            NaN           NaN      NaN             NaN              NaN   \n",
       "75%            NaN           NaN      NaN             NaN              NaN   \n",
       "max            NaN           NaN      NaN             NaN              NaN   \n",
       "std            NaN           NaN      NaN             NaN              NaN   \n",
       "\n",
       "       Surface_reelle_bati  Nombre_pieces_principales  Surface_terrain  Annee  \\\n",
       "count                  0.0                        0.0              0.0    0.0   \n",
       "mean                   NaN                        NaN              NaN    NaN   \n",
       "min                    NaN                        NaN              NaN    NaN   \n",
       "25%                    NaN                        NaN              NaN    NaN   \n",
       "50%                    NaN                        NaN              NaN    NaN   \n",
       "75%                    NaN                        NaN              NaN    NaN   \n",
       "max                    NaN                        NaN              NaN    NaN   \n",
       "std                    NaN                        NaN              NaN    NaN   \n",
       "\n",
       "       Prix_m2  \n",
       "count      0.0  \n",
       "mean       NaN  \n",
       "min        NaN  \n",
       "25%        NaN  \n",
       "50%        NaN  \n",
       "75%        NaN  \n",
       "max        NaN  \n",
       "std        NaN  "
      ]
     },
     "execution_count": 113,
     "metadata": {},
     "output_type": "execute_result"
    }
   ],
   "source": [
    "# description des données\n",
    "df_immo.describe()"
   ]
  },
  {
   "cell_type": "code",
   "execution_count": 114,
   "metadata": {},
   "outputs": [
    {
     "data": {
      "image/png": "[encoded data removed]",
      "text/plain": [
       "<Figure size 640x480 with 1 Axes>"
      ]
     },
     "metadata": {},
     "output_type": "display_data"
    }
   ],
   "source": [
    "sns.scatterplot(data=df_immo, x=\"Prix_m2\", y=\"Valeur_fonciere\")\n",
    "plt.xlabel(\"Prix au m2\")\n",
    "plt.ylabel(\"Valeur fonciere\")\n",
    "plt.show;"
   ]
  },
  {
   "cell_type": "code",
   "execution_count": 115,
   "metadata": {},
   "outputs": [
    {
     "data": {
      "image/png": "[encoded data removed]",
      "text/plain": [
       "<Figure size 640x480 with 1 Axes>"
      ]
     },
     "metadata": {},
     "output_type": "display_data"
    }
   ],
   "source": [
    "sns.scatterplot(data=df_immo, x=\"Surface_reelle_bati\", y=\"Prix_m2\")\n",
    "plt.xlabel(\"Surface_reelle_bati\")\n",
    "plt.ylabel(\"Prix au m2\")\n",
    "plt.show;"
   ]
  },
  {
   "cell_type": "code",
   "execution_count": 116,
   "metadata": {},
   "outputs": [
    {
     "data": {
      "image/png": "[encoded data removed]",
      "text/plain": [
       "<Figure size 640x480 with 1 Axes>"
      ]
     },
     "metadata": {},
     "output_type": "display_data"
    }
   ],
   "source": [
    "sns.scatterplot(data=df_immo, x=\"Surface_reelle_bati\", y=\"Prix_m2\")\n",
    "plt.xlabel(\"Surface_reelle_bati\")\n",
    "plt.ylabel(\"Prix au m2\")\n",
    "plt.show;"
   ]
  },
  {
   "cell_type": "code",
   "execution_count": 117,
   "metadata": {},
   "outputs": [],
   "source": [
    "dico = {'S': 'Sols', 'P': 'Prés', 'AG': \"Terrains d’agrément\", 'T': 'Terres', 'J': 'Jardins', 'AB': \"Terrains à bâtir\", 'VI': 'Vignes', 'L': 'Landes', 'BT': 'Taillis simples', \n",
    "        'CH': 'Chemins de fer, Canaux de Navigation', 'E': 'Eaux', 'PA': 'Pâtures ou Pâturages', 'BP': 'Peupleraies', 'BS': 'Taillis sous Futaies', 'VE': 'Vergers', \n",
    "        'PP': 'Prés, Pâtures ou Herbages plantes', 'BR': 'Futaies résineuses', 'B': 'Bois', 'BF': 'Futaies Feuillues', 'CA': 'Carrières', 'PC': 'Pacages ou Pâtis', \n",
    "        'BO': 'Oseraies', 'BM': 'Futaies Mixtes', 'PE': \"Prés d’embouche\", 'PH': 'Herbages', 'LB': 'Landes Boisées', 'TP': 'Terres plantées'}\n",
    "\n",
    "df_immo['Nature_culture'] = df_immo['Nature_culture'].replace(dico)"
   ]
  },
  {
   "cell_type": "code",
   "execution_count": 118,
   "metadata": {},
   "outputs": [
    {
     "data": {
      "text/plain": [
       "(0, 25)"
      ]
     },
     "execution_count": 118,
     "metadata": {},
     "output_type": "execute_result"
    }
   ],
   "source": [
    "df_immo.shape"
   ]
  },
  {
   "cell_type": "code",
   "execution_count": 119,
   "metadata": {},
   "outputs": [
    {
     "data": {
      "text/plain": [
       "nan"
      ]
     },
     "execution_count": 119,
     "metadata": {},
     "output_type": "execute_result"
    }
   ],
   "source": [
    "df_immo['Prix_m2'].max()"
   ]
  },
  {
   "cell_type": "code",
   "execution_count": 120,
   "metadata": {},
   "outputs": [],
   "source": [
    "df_immo.to_csv(\"df_immo.csv\")"
   ]
  }
 ],
 "metadata": {
  "colab": {
   "provenance": [
    {
     "file_id": "10gWGkBtyguVZsWBTieHP7S04sE4JVldT",
     "timestamp": 1739212921861
    }
   ]
  },
  "kernelspec": {
   "display_name": "base",
   "language": "python",
   "name": "python3"
  },
  "language_info": {
   "codemirror_mode": {
    "name": "ipython",
    "version": 3
   },
   "file_extension": ".py",
   "mimetype": "text/x-python",
   "name": "python",
   "nbconvert_exporter": "python",
   "pygments_lexer": "ipython3",
   "version": "3.12.7"
  }
 },
 "nbformat": 4,
 "nbformat_minor": 0
}
